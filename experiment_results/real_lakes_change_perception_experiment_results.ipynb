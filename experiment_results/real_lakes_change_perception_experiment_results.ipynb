{
 "cells": [
  {
   "cell_type": "code",
   "execution_count": 1,
   "id": "77d718fb",
   "metadata": {},
   "outputs": [],
   "source": [
    "import pandas as pd\n",
    "import numpy as np\n",
    "import matplotlib.pyplot as plt\n",
    "import seaborn as sns\n",
    "import re\n",
    "\n",
    "from pymongo.mongo_client import MongoClient\n",
    "from pymongo.server_api import ServerApi\n",
    "\n",
    "import os\n",
    "from dotenv import load_dotenv # add this line\n",
    "\n",
    "import json\n",
    "\n",
    "from scipy import stats"
   ]
  },
  {
   "cell_type": "code",
   "execution_count": 2,
   "id": "ea40a1f7",
   "metadata": {},
   "outputs": [],
   "source": [
    "# Python program to read\n",
    "# json file\n",
    " \n",
    "import json\n",
    " \n",
    "# Opening JSON file\n",
    "f = open(\"experiment_data/pilot_lakes_scaled.json\")\n",
    " \n",
    "# returns JSON object as \n",
    "# a dictionary\n",
    "data = json.load(f)\n",
    "\n",
    "f.close()"
   ]
  },
  {
   "cell_type": "code",
   "execution_count": 3,
   "id": "c19cf780",
   "metadata": {},
   "outputs": [],
   "source": [
    "exp_df = pd.DataFrame(list(data))\n",
    "exp_df = pd.concat([exp_df.drop(['data'], axis=1), exp_df['data'].apply(pd.Series)], axis=1)\n",
    "exp_df = pd.concat([exp_df.drop(['trials'], axis=1), exp_df['trials'].apply(pd.Series)], axis=1)"
   ]
  },
  {
   "cell_type": "code",
   "execution_count": 4,
   "id": "a6a97a70",
   "metadata": {},
   "outputs": [],
   "source": [
    "exp_df = exp_df[[3, 5, 6]]\n",
    "\n",
    "exp_df = pd.concat([exp_df.drop([3], axis=1), exp_df[3].apply(pd.Series)], axis=1)\n",
    "exp_df = pd.concat([exp_df.drop([6], axis=1), exp_df[6].apply(pd.Series)], axis=1)"
   ]
  },
  {
   "cell_type": "code",
   "execution_count": 5,
   "id": "38db65a0",
   "metadata": {},
   "outputs": [],
   "source": [
    "exp_df = exp_df[[5, 'stimulus_type', 'response']]\n",
    "exp_df = exp_df.rename(columns={\"response\": \"response_survey\"})\n",
    "exp_df = exp_df.rename(columns={\"stimulus_type\": \"stimulus_category\"})\n"
   ]
  },
  {
   "cell_type": "code",
   "execution_count": 6,
   "id": "3de39847",
   "metadata": {},
   "outputs": [
    {
     "data": {
      "text/html": [
       "<div>\n",
       "<style scoped>\n",
       "    .dataframe tbody tr th:only-of-type {\n",
       "        vertical-align: middle;\n",
       "    }\n",
       "\n",
       "    .dataframe tbody tr th {\n",
       "        vertical-align: top;\n",
       "    }\n",
       "\n",
       "    .dataframe thead th {\n",
       "        text-align: right;\n",
       "    }\n",
       "</style>\n",
       "<table border=\"1\" class=\"dataframe\">\n",
       "  <thead>\n",
       "    <tr style=\"text-align: right;\">\n",
       "      <th></th>\n",
       "      <th>5</th>\n",
       "      <th>stimulus_category</th>\n",
       "      <th>response_survey</th>\n",
       "    </tr>\n",
       "  </thead>\n",
       "  <tbody>\n",
       "    <tr>\n",
       "      <th>0</th>\n",
       "      <td>{'rt': 8929, 'stimulus': '&lt;div style='float: c...</td>\n",
       "      <td>temp</td>\n",
       "      <td>{'Temperature': 7, 'Attention': 9, 'Freeze': 7...</td>\n",
       "    </tr>\n",
       "    <tr>\n",
       "      <th>1</th>\n",
       "      <td>{'rt': 10733, 'stimulus': '&lt;div style='float: ...</td>\n",
       "      <td>temp</td>\n",
       "      <td>{'Attention': 9, 'Freeze': 7, 'Temperature': 7...</td>\n",
       "    </tr>\n",
       "    <tr>\n",
       "      <th>2</th>\n",
       "      <td>{'rt': 11547, 'stimulus': '&lt;div style='float: ...</td>\n",
       "      <td>temp</td>\n",
       "      <td>{'Temperature': 5, 'Freeze': 6, 'Climate': 6, ...</td>\n",
       "    </tr>\n",
       "    <tr>\n",
       "      <th>3</th>\n",
       "      <td>{'rt': 6669, 'stimulus': '&lt;div style='float: c...</td>\n",
       "      <td>freeze</td>\n",
       "      <td>{'Temperature': 5, 'Climate': 9, 'Attention': ...</td>\n",
       "    </tr>\n",
       "    <tr>\n",
       "      <th>4</th>\n",
       "      <td>{'rt': 23257, 'stimulus': '&lt;div style='float: ...</td>\n",
       "      <td>temp</td>\n",
       "      <td>{'Attention': 9, 'Freeze': 3, 'Climate': 4, 'T...</td>\n",
       "    </tr>\n",
       "    <tr>\n",
       "      <th>...</th>\n",
       "      <td>...</td>\n",
       "      <td>...</td>\n",
       "      <td>...</td>\n",
       "    </tr>\n",
       "    <tr>\n",
       "      <th>242</th>\n",
       "      <td>{'rt': 21434, 'stimulus': '&lt;div style='float: ...</td>\n",
       "      <td>freeze</td>\n",
       "      <td>{'Attention': 9, 'Climate': 7, 'Freeze': 7, 'T...</td>\n",
       "    </tr>\n",
       "    <tr>\n",
       "      <th>243</th>\n",
       "      <td>{'rt': 36899, 'stimulus': '&lt;div style='float: ...</td>\n",
       "      <td>temp</td>\n",
       "      <td>{'Temperature': 3, 'Freeze': 7, 'Attention': 9...</td>\n",
       "    </tr>\n",
       "    <tr>\n",
       "      <th>244</th>\n",
       "      <td>{'rt': 21492, 'stimulus': '&lt;div style='float: ...</td>\n",
       "      <td>temp</td>\n",
       "      <td>{'Freeze': 6, 'Temperature': 6, 'Attention': 9...</td>\n",
       "    </tr>\n",
       "    <tr>\n",
       "      <th>245</th>\n",
       "      <td>{'rt': 29726, 'stimulus': '&lt;div style='float: ...</td>\n",
       "      <td>temp</td>\n",
       "      <td>{'Attention': 9, 'Climate': 8, 'Freeze': 8, 'T...</td>\n",
       "    </tr>\n",
       "    <tr>\n",
       "      <th>246</th>\n",
       "      <td>{'rt': 27837, 'stimulus': '&lt;div style='float: ...</td>\n",
       "      <td>temp</td>\n",
       "      <td>{'Attention': 9, 'Temperature': 6, 'Climate': ...</td>\n",
       "    </tr>\n",
       "  </tbody>\n",
       "</table>\n",
       "<p>247 rows × 3 columns</p>\n",
       "</div>"
      ],
      "text/plain": [
       "                                                     5 stimulus_category  \\\n",
       "0    {'rt': 8929, 'stimulus': '<div style='float: c...              temp   \n",
       "1    {'rt': 10733, 'stimulus': '<div style='float: ...              temp   \n",
       "2    {'rt': 11547, 'stimulus': '<div style='float: ...              temp   \n",
       "3    {'rt': 6669, 'stimulus': '<div style='float: c...            freeze   \n",
       "4    {'rt': 23257, 'stimulus': '<div style='float: ...              temp   \n",
       "..                                                 ...               ...   \n",
       "242  {'rt': 21434, 'stimulus': '<div style='float: ...            freeze   \n",
       "243  {'rt': 36899, 'stimulus': '<div style='float: ...              temp   \n",
       "244  {'rt': 21492, 'stimulus': '<div style='float: ...              temp   \n",
       "245  {'rt': 29726, 'stimulus': '<div style='float: ...              temp   \n",
       "246  {'rt': 27837, 'stimulus': '<div style='float: ...              temp   \n",
       "\n",
       "                                       response_survey  \n",
       "0    {'Temperature': 7, 'Attention': 9, 'Freeze': 7...  \n",
       "1    {'Attention': 9, 'Freeze': 7, 'Temperature': 7...  \n",
       "2    {'Temperature': 5, 'Freeze': 6, 'Climate': 6, ...  \n",
       "3    {'Temperature': 5, 'Climate': 9, 'Attention': ...  \n",
       "4    {'Attention': 9, 'Freeze': 3, 'Climate': 4, 'T...  \n",
       "..                                                 ...  \n",
       "242  {'Attention': 9, 'Climate': 7, 'Freeze': 7, 'T...  \n",
       "243  {'Temperature': 3, 'Freeze': 7, 'Attention': 9...  \n",
       "244  {'Freeze': 6, 'Temperature': 6, 'Attention': 9...  \n",
       "245  {'Attention': 9, 'Climate': 8, 'Freeze': 8, 'T...  \n",
       "246  {'Attention': 9, 'Temperature': 6, 'Climate': ...  \n",
       "\n",
       "[247 rows x 3 columns]"
      ]
     },
     "execution_count": 6,
     "metadata": {},
     "output_type": "execute_result"
    }
   ],
   "source": [
    "exp_df"
   ]
  },
  {
   "cell_type": "code",
   "execution_count": 7,
   "id": "ce109fe2",
   "metadata": {},
   "outputs": [],
   "source": [
    "exp_df = pd.concat([exp_df.drop([5], axis=1), exp_df[5].apply(pd.Series)], axis=1)\n",
    "\n",
    "exp_df = exp_df[['rt', 'stimulus_category', 'stimulus_type', 'response_survey']]\n",
    "exp_df = exp_df.rename(columns={\"stimulus_type\": \"lake\"})\n",
    "\n",
    "exp_df = pd.concat([exp_df.drop(['response_survey'], axis=1), exp_df['response_survey'].apply(pd.Series)], axis=1)\n",
    "\n",
    "# keep only entries where subject was paying attention\n",
    "exp_df = exp_df[exp_df['Attention'] == 9]\n",
    "exp_df = exp_df[exp_df['rt'] >= 2000]\n",
    "\n",
    "# add 1 to numerical entries to shift to 1-10 scale\n",
    "exp_df = pd.concat([exp_df.drop(['stimulus_category', 'lake'], axis=1)+1, exp_df[['stimulus_category','lake']]], axis=1)"
   ]
  },
  {
   "cell_type": "code",
   "execution_count": 8,
   "id": "09971fd6",
   "metadata": {},
   "outputs": [
    {
     "data": {
      "text/html": [
       "<div>\n",
       "<style scoped>\n",
       "    .dataframe tbody tr th:only-of-type {\n",
       "        vertical-align: middle;\n",
       "    }\n",
       "\n",
       "    .dataframe tbody tr th {\n",
       "        vertical-align: top;\n",
       "    }\n",
       "\n",
       "    .dataframe thead th {\n",
       "        text-align: right;\n",
       "    }\n",
       "</style>\n",
       "<table border=\"1\" class=\"dataframe\">\n",
       "  <thead>\n",
       "    <tr style=\"text-align: right;\">\n",
       "      <th></th>\n",
       "      <th>rt</th>\n",
       "      <th>Temperature</th>\n",
       "      <th>Attention</th>\n",
       "      <th>Freeze</th>\n",
       "      <th>Climate</th>\n",
       "      <th>stimulus_category</th>\n",
       "      <th>lake</th>\n",
       "    </tr>\n",
       "  </thead>\n",
       "  <tbody>\n",
       "    <tr>\n",
       "      <th>0</th>\n",
       "      <td>8930</td>\n",
       "      <td>8</td>\n",
       "      <td>10</td>\n",
       "      <td>8</td>\n",
       "      <td>9</td>\n",
       "      <td>temp</td>\n",
       "      <td>../img/plots/george_temp.png</td>\n",
       "    </tr>\n",
       "    <tr>\n",
       "      <th>1</th>\n",
       "      <td>10734</td>\n",
       "      <td>8</td>\n",
       "      <td>10</td>\n",
       "      <td>8</td>\n",
       "      <td>8</td>\n",
       "      <td>temp</td>\n",
       "      <td>../img/plots/george_temp.png</td>\n",
       "    </tr>\n",
       "    <tr>\n",
       "      <th>2</th>\n",
       "      <td>11548</td>\n",
       "      <td>6</td>\n",
       "      <td>10</td>\n",
       "      <td>7</td>\n",
       "      <td>7</td>\n",
       "      <td>temp</td>\n",
       "      <td>../img/plots/grand_traverse_bay_temp.png</td>\n",
       "    </tr>\n",
       "    <tr>\n",
       "      <th>3</th>\n",
       "      <td>6670</td>\n",
       "      <td>6</td>\n",
       "      <td>10</td>\n",
       "      <td>8</td>\n",
       "      <td>10</td>\n",
       "      <td>freeze</td>\n",
       "      <td>../img/plots/george_freeze.png</td>\n",
       "    </tr>\n",
       "    <tr>\n",
       "      <th>4</th>\n",
       "      <td>23258</td>\n",
       "      <td>5</td>\n",
       "      <td>10</td>\n",
       "      <td>4</td>\n",
       "      <td>5</td>\n",
       "      <td>temp</td>\n",
       "      <td>../img/plots/grand_traverse_bay_temp.png</td>\n",
       "    </tr>\n",
       "    <tr>\n",
       "      <th>...</th>\n",
       "      <td>...</td>\n",
       "      <td>...</td>\n",
       "      <td>...</td>\n",
       "      <td>...</td>\n",
       "      <td>...</td>\n",
       "      <td>...</td>\n",
       "      <td>...</td>\n",
       "    </tr>\n",
       "    <tr>\n",
       "      <th>242</th>\n",
       "      <td>21435</td>\n",
       "      <td>8</td>\n",
       "      <td>10</td>\n",
       "      <td>8</td>\n",
       "      <td>8</td>\n",
       "      <td>freeze</td>\n",
       "      <td>../img/plots/sarnersee_freeze.png</td>\n",
       "    </tr>\n",
       "    <tr>\n",
       "      <th>243</th>\n",
       "      <td>36900</td>\n",
       "      <td>4</td>\n",
       "      <td>10</td>\n",
       "      <td>8</td>\n",
       "      <td>8</td>\n",
       "      <td>temp</td>\n",
       "      <td>../img/plots/vattern_temp.png</td>\n",
       "    </tr>\n",
       "    <tr>\n",
       "      <th>244</th>\n",
       "      <td>21493</td>\n",
       "      <td>7</td>\n",
       "      <td>10</td>\n",
       "      <td>7</td>\n",
       "      <td>9</td>\n",
       "      <td>temp</td>\n",
       "      <td>../img/plots/vattern_temp.png</td>\n",
       "    </tr>\n",
       "    <tr>\n",
       "      <th>245</th>\n",
       "      <td>29727</td>\n",
       "      <td>9</td>\n",
       "      <td>10</td>\n",
       "      <td>9</td>\n",
       "      <td>9</td>\n",
       "      <td>temp</td>\n",
       "      <td>../img/plots/george_temp.png</td>\n",
       "    </tr>\n",
       "    <tr>\n",
       "      <th>246</th>\n",
       "      <td>27838</td>\n",
       "      <td>7</td>\n",
       "      <td>10</td>\n",
       "      <td>2</td>\n",
       "      <td>7</td>\n",
       "      <td>temp</td>\n",
       "      <td>../img/plots/george_temp.png</td>\n",
       "    </tr>\n",
       "  </tbody>\n",
       "</table>\n",
       "<p>235 rows × 7 columns</p>\n",
       "</div>"
      ],
      "text/plain": [
       "        rt  Temperature  Attention  Freeze  Climate stimulus_category  \\\n",
       "0     8930            8         10       8        9              temp   \n",
       "1    10734            8         10       8        8              temp   \n",
       "2    11548            6         10       7        7              temp   \n",
       "3     6670            6         10       8       10            freeze   \n",
       "4    23258            5         10       4        5              temp   \n",
       "..     ...          ...        ...     ...      ...               ...   \n",
       "242  21435            8         10       8        8            freeze   \n",
       "243  36900            4         10       8        8              temp   \n",
       "244  21493            7         10       7        9              temp   \n",
       "245  29727            9         10       9        9              temp   \n",
       "246  27838            7         10       2        7              temp   \n",
       "\n",
       "                                         lake  \n",
       "0                ../img/plots/george_temp.png  \n",
       "1                ../img/plots/george_temp.png  \n",
       "2    ../img/plots/grand_traverse_bay_temp.png  \n",
       "3              ../img/plots/george_freeze.png  \n",
       "4    ../img/plots/grand_traverse_bay_temp.png  \n",
       "..                                        ...  \n",
       "242         ../img/plots/sarnersee_freeze.png  \n",
       "243             ../img/plots/vattern_temp.png  \n",
       "244             ../img/plots/vattern_temp.png  \n",
       "245              ../img/plots/george_temp.png  \n",
       "246              ../img/plots/george_temp.png  \n",
       "\n",
       "[235 rows x 7 columns]"
      ]
     },
     "execution_count": 8,
     "metadata": {},
     "output_type": "execute_result"
    }
   ],
   "source": [
    "exp_df"
   ]
  },
  {
   "cell_type": "code",
   "execution_count": 9,
   "id": "36644309",
   "metadata": {},
   "outputs": [],
   "source": [
    "exp_df.dropna(axis = 1, inplace = True, how = 'all')\n",
    "exp_df.dropna(axis = 0, inplace = True, how = 'all')"
   ]
  },
  {
   "cell_type": "code",
   "execution_count": 10,
   "id": "bcf8cb6e",
   "metadata": {},
   "outputs": [],
   "source": [
    "exp_df['lake'] = exp_df['lake'].str.replace(\"../img/plots/\", \"\") \n",
    "exp_df['lake'] = exp_df['lake'].str.replace(\"_freeze.png\", \"\") \n",
    "exp_df['lake'] = exp_df['lake'].str.replace(\"_temp.png\", \"\") "
   ]
  },
  {
   "cell_type": "code",
   "execution_count": 11,
   "id": "483c2b24",
   "metadata": {},
   "outputs": [],
   "source": [
    "#exp_df['correlation'] = exp_df['lake'].str.extract('(\\d+\\.\\d+)', expand=False).astype(float)"
   ]
  },
  {
   "cell_type": "code",
   "execution_count": 12,
   "id": "9be2fd4d",
   "metadata": {},
   "outputs": [],
   "source": [
    "exp_freeze_df = exp_df[exp_df['stimulus_category'] == 'freeze']\n",
    "exp_temp_df = exp_df[exp_df['stimulus_category'] == 'temp']"
   ]
  },
  {
   "cell_type": "code",
   "execution_count": 13,
   "id": "f7493e58",
   "metadata": {},
   "outputs": [
    {
     "data": {
      "text/plain": [
       "116"
      ]
     },
     "execution_count": 13,
     "metadata": {},
     "output_type": "execute_result"
    }
   ],
   "source": [
    "len(exp_freeze_df)"
   ]
  },
  {
   "cell_type": "code",
   "execution_count": 14,
   "id": "944f9c01",
   "metadata": {
    "scrolled": true
   },
   "outputs": [
    {
     "data": {
      "text/plain": [
       "119"
      ]
     },
     "execution_count": 14,
     "metadata": {},
     "output_type": "execute_result"
    }
   ],
   "source": [
    "len(exp_temp_df)"
   ]
  },
  {
   "cell_type": "code",
   "execution_count": 15,
   "id": "798825b5",
   "metadata": {},
   "outputs": [],
   "source": [
    "exp_df = pd.concat([exp_freeze_df, exp_temp_df], axis = 0)"
   ]
  },
  {
   "cell_type": "code",
   "execution_count": 16,
   "id": "046ab73e",
   "metadata": {
    "scrolled": true
   },
   "outputs": [
    {
     "data": {
      "text/html": [
       "<div>\n",
       "<style scoped>\n",
       "    .dataframe tbody tr th:only-of-type {\n",
       "        vertical-align: middle;\n",
       "    }\n",
       "\n",
       "    .dataframe tbody tr th {\n",
       "        vertical-align: top;\n",
       "    }\n",
       "\n",
       "    .dataframe thead th {\n",
       "        text-align: right;\n",
       "    }\n",
       "</style>\n",
       "<table border=\"1\" class=\"dataframe\">\n",
       "  <thead>\n",
       "    <tr style=\"text-align: right;\">\n",
       "      <th></th>\n",
       "      <th>rt</th>\n",
       "      <th>Temperature</th>\n",
       "      <th>Attention</th>\n",
       "      <th>Freeze</th>\n",
       "      <th>Climate</th>\n",
       "      <th>stimulus_category</th>\n",
       "      <th>lake</th>\n",
       "    </tr>\n",
       "  </thead>\n",
       "  <tbody>\n",
       "    <tr>\n",
       "      <th>3</th>\n",
       "      <td>6670</td>\n",
       "      <td>6</td>\n",
       "      <td>10</td>\n",
       "      <td>8</td>\n",
       "      <td>10</td>\n",
       "      <td>freeze</td>\n",
       "      <td>george</td>\n",
       "    </tr>\n",
       "    <tr>\n",
       "      <th>5</th>\n",
       "      <td>11337</td>\n",
       "      <td>9</td>\n",
       "      <td>10</td>\n",
       "      <td>9</td>\n",
       "      <td>9</td>\n",
       "      <td>freeze</td>\n",
       "      <td>vattern</td>\n",
       "    </tr>\n",
       "    <tr>\n",
       "      <th>6</th>\n",
       "      <td>12059</td>\n",
       "      <td>8</td>\n",
       "      <td>10</td>\n",
       "      <td>8</td>\n",
       "      <td>8</td>\n",
       "      <td>freeze</td>\n",
       "      <td>suwa</td>\n",
       "    </tr>\n",
       "    <tr>\n",
       "      <th>7</th>\n",
       "      <td>12849</td>\n",
       "      <td>8</td>\n",
       "      <td>10</td>\n",
       "      <td>10</td>\n",
       "      <td>9</td>\n",
       "      <td>freeze</td>\n",
       "      <td>george</td>\n",
       "    </tr>\n",
       "    <tr>\n",
       "      <th>8</th>\n",
       "      <td>13074</td>\n",
       "      <td>4</td>\n",
       "      <td>10</td>\n",
       "      <td>3</td>\n",
       "      <td>7</td>\n",
       "      <td>freeze</td>\n",
       "      <td>vattern</td>\n",
       "    </tr>\n",
       "    <tr>\n",
       "      <th>...</th>\n",
       "      <td>...</td>\n",
       "      <td>...</td>\n",
       "      <td>...</td>\n",
       "      <td>...</td>\n",
       "      <td>...</td>\n",
       "      <td>...</td>\n",
       "      <td>...</td>\n",
       "    </tr>\n",
       "    <tr>\n",
       "      <th>240</th>\n",
       "      <td>14062</td>\n",
       "      <td>10</td>\n",
       "      <td>10</td>\n",
       "      <td>10</td>\n",
       "      <td>10</td>\n",
       "      <td>temp</td>\n",
       "      <td>sarnersee</td>\n",
       "    </tr>\n",
       "    <tr>\n",
       "      <th>243</th>\n",
       "      <td>36900</td>\n",
       "      <td>4</td>\n",
       "      <td>10</td>\n",
       "      <td>8</td>\n",
       "      <td>8</td>\n",
       "      <td>temp</td>\n",
       "      <td>vattern</td>\n",
       "    </tr>\n",
       "    <tr>\n",
       "      <th>244</th>\n",
       "      <td>21493</td>\n",
       "      <td>7</td>\n",
       "      <td>10</td>\n",
       "      <td>7</td>\n",
       "      <td>9</td>\n",
       "      <td>temp</td>\n",
       "      <td>vattern</td>\n",
       "    </tr>\n",
       "    <tr>\n",
       "      <th>245</th>\n",
       "      <td>29727</td>\n",
       "      <td>9</td>\n",
       "      <td>10</td>\n",
       "      <td>9</td>\n",
       "      <td>9</td>\n",
       "      <td>temp</td>\n",
       "      <td>george</td>\n",
       "    </tr>\n",
       "    <tr>\n",
       "      <th>246</th>\n",
       "      <td>27838</td>\n",
       "      <td>7</td>\n",
       "      <td>10</td>\n",
       "      <td>2</td>\n",
       "      <td>7</td>\n",
       "      <td>temp</td>\n",
       "      <td>george</td>\n",
       "    </tr>\n",
       "  </tbody>\n",
       "</table>\n",
       "<p>235 rows × 7 columns</p>\n",
       "</div>"
      ],
      "text/plain": [
       "        rt  Temperature  Attention  Freeze  Climate stimulus_category  \\\n",
       "3     6670            6         10       8       10            freeze   \n",
       "5    11337            9         10       9        9            freeze   \n",
       "6    12059            8         10       8        8            freeze   \n",
       "7    12849            8         10      10        9            freeze   \n",
       "8    13074            4         10       3        7            freeze   \n",
       "..     ...          ...        ...     ...      ...               ...   \n",
       "240  14062           10         10      10       10              temp   \n",
       "243  36900            4         10       8        8              temp   \n",
       "244  21493            7         10       7        9              temp   \n",
       "245  29727            9         10       9        9              temp   \n",
       "246  27838            7         10       2        7              temp   \n",
       "\n",
       "          lake  \n",
       "3       george  \n",
       "5      vattern  \n",
       "6         suwa  \n",
       "7       george  \n",
       "8      vattern  \n",
       "..         ...  \n",
       "240  sarnersee  \n",
       "243    vattern  \n",
       "244    vattern  \n",
       "245     george  \n",
       "246     george  \n",
       "\n",
       "[235 rows x 7 columns]"
      ]
     },
     "execution_count": 16,
     "metadata": {},
     "output_type": "execute_result"
    }
   ],
   "source": [
    "exp_df"
   ]
  },
  {
   "cell_type": "markdown",
   "id": "dd705236",
   "metadata": {},
   "source": [
    "# Analysis by Lake"
   ]
  },
  {
   "cell_type": "code",
   "execution_count": 17,
   "id": "018c534f",
   "metadata": {},
   "outputs": [],
   "source": [
    "exp_freeze_grouped_df = exp_freeze_df.groupby('lake')\n",
    "exp_temp_grouped_df = exp_temp_df.groupby('lake')"
   ]
  },
  {
   "cell_type": "code",
   "execution_count": 18,
   "id": "d67d145d",
   "metadata": {
    "scrolled": false
   },
   "outputs": [
    {
     "name": "stdout",
     "output_type": "stream",
     "text": [
      "Temp group\n"
     ]
    },
    {
     "data": {
      "text/html": [
       "<div>\n",
       "<style scoped>\n",
       "    .dataframe tbody tr th:only-of-type {\n",
       "        vertical-align: middle;\n",
       "    }\n",
       "\n",
       "    .dataframe tbody tr th {\n",
       "        vertical-align: top;\n",
       "    }\n",
       "\n",
       "    .dataframe thead th {\n",
       "        text-align: right;\n",
       "    }\n",
       "</style>\n",
       "<table border=\"1\" class=\"dataframe\">\n",
       "  <thead>\n",
       "    <tr style=\"text-align: right;\">\n",
       "      <th></th>\n",
       "      <th>count</th>\n",
       "      <th>mean</th>\n",
       "      <th>std</th>\n",
       "      <th>min</th>\n",
       "      <th>25%</th>\n",
       "      <th>50%</th>\n",
       "      <th>75%</th>\n",
       "      <th>max</th>\n",
       "    </tr>\n",
       "    <tr>\n",
       "      <th>lake</th>\n",
       "      <th></th>\n",
       "      <th></th>\n",
       "      <th></th>\n",
       "      <th></th>\n",
       "      <th></th>\n",
       "      <th></th>\n",
       "      <th></th>\n",
       "      <th></th>\n",
       "    </tr>\n",
       "  </thead>\n",
       "  <tbody>\n",
       "    <tr>\n",
       "      <th>george</th>\n",
       "      <td>21.0</td>\n",
       "      <td>6.952381</td>\n",
       "      <td>2.108938</td>\n",
       "      <td>1.0</td>\n",
       "      <td>6.00</td>\n",
       "      <td>7.0</td>\n",
       "      <td>8.00</td>\n",
       "      <td>10.0</td>\n",
       "    </tr>\n",
       "    <tr>\n",
       "      <th>grand_traverse_bay</th>\n",
       "      <td>30.0</td>\n",
       "      <td>6.566667</td>\n",
       "      <td>2.373464</td>\n",
       "      <td>1.0</td>\n",
       "      <td>5.25</td>\n",
       "      <td>7.0</td>\n",
       "      <td>8.00</td>\n",
       "      <td>10.0</td>\n",
       "    </tr>\n",
       "    <tr>\n",
       "      <th>sarnersee</th>\n",
       "      <td>19.0</td>\n",
       "      <td>7.000000</td>\n",
       "      <td>2.380476</td>\n",
       "      <td>2.0</td>\n",
       "      <td>6.00</td>\n",
       "      <td>7.0</td>\n",
       "      <td>8.50</td>\n",
       "      <td>10.0</td>\n",
       "    </tr>\n",
       "    <tr>\n",
       "      <th>suwa</th>\n",
       "      <td>23.0</td>\n",
       "      <td>6.478261</td>\n",
       "      <td>2.591412</td>\n",
       "      <td>1.0</td>\n",
       "      <td>5.00</td>\n",
       "      <td>7.0</td>\n",
       "      <td>8.00</td>\n",
       "      <td>10.0</td>\n",
       "    </tr>\n",
       "    <tr>\n",
       "      <th>vattern</th>\n",
       "      <td>26.0</td>\n",
       "      <td>6.692308</td>\n",
       "      <td>2.093212</td>\n",
       "      <td>2.0</td>\n",
       "      <td>5.25</td>\n",
       "      <td>7.0</td>\n",
       "      <td>8.75</td>\n",
       "      <td>10.0</td>\n",
       "    </tr>\n",
       "  </tbody>\n",
       "</table>\n",
       "</div>"
      ],
      "text/plain": [
       "                    count      mean       std  min   25%  50%   75%   max\n",
       "lake                                                                     \n",
       "george               21.0  6.952381  2.108938  1.0  6.00  7.0  8.00  10.0\n",
       "grand_traverse_bay   30.0  6.566667  2.373464  1.0  5.25  7.0  8.00  10.0\n",
       "sarnersee            19.0  7.000000  2.380476  2.0  6.00  7.0  8.50  10.0\n",
       "suwa                 23.0  6.478261  2.591412  1.0  5.00  7.0  8.00  10.0\n",
       "vattern              26.0  6.692308  2.093212  2.0  5.25  7.0  8.75  10.0"
      ]
     },
     "execution_count": 18,
     "metadata": {},
     "output_type": "execute_result"
    }
   ],
   "source": [
    "print(\"Temp group\")\n",
    "exp_temp_grouped_df['Climate'].describe()"
   ]
  },
  {
   "cell_type": "code",
   "execution_count": 19,
   "id": "6dab7be7",
   "metadata": {},
   "outputs": [
    {
     "name": "stdout",
     "output_type": "stream",
     "text": [
      "Freeze group\n"
     ]
    },
    {
     "data": {
      "text/html": [
       "<div>\n",
       "<style scoped>\n",
       "    .dataframe tbody tr th:only-of-type {\n",
       "        vertical-align: middle;\n",
       "    }\n",
       "\n",
       "    .dataframe tbody tr th {\n",
       "        vertical-align: top;\n",
       "    }\n",
       "\n",
       "    .dataframe thead th {\n",
       "        text-align: right;\n",
       "    }\n",
       "</style>\n",
       "<table border=\"1\" class=\"dataframe\">\n",
       "  <thead>\n",
       "    <tr style=\"text-align: right;\">\n",
       "      <th></th>\n",
       "      <th>count</th>\n",
       "      <th>mean</th>\n",
       "      <th>std</th>\n",
       "      <th>min</th>\n",
       "      <th>25%</th>\n",
       "      <th>50%</th>\n",
       "      <th>75%</th>\n",
       "      <th>max</th>\n",
       "    </tr>\n",
       "    <tr>\n",
       "      <th>lake</th>\n",
       "      <th></th>\n",
       "      <th></th>\n",
       "      <th></th>\n",
       "      <th></th>\n",
       "      <th></th>\n",
       "      <th></th>\n",
       "      <th></th>\n",
       "      <th></th>\n",
       "    </tr>\n",
       "  </thead>\n",
       "  <tbody>\n",
       "    <tr>\n",
       "      <th>george</th>\n",
       "      <td>23.0</td>\n",
       "      <td>8.130435</td>\n",
       "      <td>1.686965</td>\n",
       "      <td>3.0</td>\n",
       "      <td>7.5</td>\n",
       "      <td>9.0</td>\n",
       "      <td>9.0</td>\n",
       "      <td>10.0</td>\n",
       "    </tr>\n",
       "    <tr>\n",
       "      <th>grand_traverse_bay</th>\n",
       "      <td>29.0</td>\n",
       "      <td>7.655172</td>\n",
       "      <td>1.932354</td>\n",
       "      <td>3.0</td>\n",
       "      <td>7.0</td>\n",
       "      <td>8.0</td>\n",
       "      <td>9.0</td>\n",
       "      <td>10.0</td>\n",
       "    </tr>\n",
       "    <tr>\n",
       "      <th>sarnersee</th>\n",
       "      <td>23.0</td>\n",
       "      <td>7.652174</td>\n",
       "      <td>1.799209</td>\n",
       "      <td>4.0</td>\n",
       "      <td>6.0</td>\n",
       "      <td>7.0</td>\n",
       "      <td>9.0</td>\n",
       "      <td>10.0</td>\n",
       "    </tr>\n",
       "    <tr>\n",
       "      <th>suwa</th>\n",
       "      <td>17.0</td>\n",
       "      <td>7.470588</td>\n",
       "      <td>2.321574</td>\n",
       "      <td>2.0</td>\n",
       "      <td>7.0</td>\n",
       "      <td>8.0</td>\n",
       "      <td>9.0</td>\n",
       "      <td>10.0</td>\n",
       "    </tr>\n",
       "    <tr>\n",
       "      <th>vattern</th>\n",
       "      <td>24.0</td>\n",
       "      <td>7.833333</td>\n",
       "      <td>2.180281</td>\n",
       "      <td>1.0</td>\n",
       "      <td>7.0</td>\n",
       "      <td>8.0</td>\n",
       "      <td>9.0</td>\n",
       "      <td>10.0</td>\n",
       "    </tr>\n",
       "  </tbody>\n",
       "</table>\n",
       "</div>"
      ],
      "text/plain": [
       "                    count      mean       std  min  25%  50%  75%   max\n",
       "lake                                                                   \n",
       "george               23.0  8.130435  1.686965  3.0  7.5  9.0  9.0  10.0\n",
       "grand_traverse_bay   29.0  7.655172  1.932354  3.0  7.0  8.0  9.0  10.0\n",
       "sarnersee            23.0  7.652174  1.799209  4.0  6.0  7.0  9.0  10.0\n",
       "suwa                 17.0  7.470588  2.321574  2.0  7.0  8.0  9.0  10.0\n",
       "vattern              24.0  7.833333  2.180281  1.0  7.0  8.0  9.0  10.0"
      ]
     },
     "execution_count": 19,
     "metadata": {},
     "output_type": "execute_result"
    }
   ],
   "source": [
    "print(\"Freeze group\")\n",
    "exp_freeze_grouped_df['Climate'].describe()"
   ]
  },
  {
   "cell_type": "markdown",
   "id": "6efe4f08",
   "metadata": {},
   "source": [
    "# Analysis by correlation"
   ]
  },
  {
   "cell_type": "code",
   "execution_count": 20,
   "id": "8e6781d9",
   "metadata": {},
   "outputs": [
    {
     "name": "stdout",
     "output_type": "stream",
     "text": [
      "7.758620689655173\n",
      "6.714285714285714\n",
      "1.954351620070598\n",
      "2.285335925100924\n",
      "1.0443349753694582\n"
     ]
    },
    {
     "data": {
      "text/plain": [
       "TtestResult(statistic=3.7605523171995325, pvalue=0.0002144638467279972, df=233.0)"
      ]
     },
     "execution_count": 20,
     "metadata": {},
     "output_type": "execute_result"
    }
   ],
   "source": [
    "print(exp_df[exp_df['stimulus_category'] == 'freeze']['Climate'].mean())\n",
    "print(exp_df[exp_df['stimulus_category'] == 'temp']['Climate'].mean())\n",
    "print(exp_df[exp_df['stimulus_category'] == 'freeze']['Climate'].std())\n",
    "print(exp_df[exp_df['stimulus_category'] == 'temp']['Climate'].std())\n",
    "print(exp_df[exp_df['stimulus_category'] == 'freeze']['Climate'].mean() - exp_df[exp_df['stimulus_category'] == 'temp']['Climate'].mean())\n",
    "stats.ttest_ind(exp_df[exp_df['stimulus_category'] == 'freeze']['Climate'], exp_df[exp_df['stimulus_category'] == 'temp']['Climate'])"
   ]
  },
  {
   "cell_type": "code",
   "execution_count": 27,
   "id": "6c19e22a",
   "metadata": {},
   "outputs": [
    {
     "name": "stdout",
     "output_type": "stream",
     "text": [
      "8.017241379310345\n",
      "6.630252100840337\n",
      "1.7544118728195655\n",
      "2.1818416502473377\n",
      "1.3869892784700086\n"
     ]
    },
    {
     "data": {
      "text/plain": [
       "TtestResult(statistic=5.362209843077779, pvalue=1.9772224125084235e-07, df=233.0)"
      ]
     },
     "execution_count": 27,
     "metadata": {},
     "output_type": "execute_result"
    }
   ],
   "source": [
    "print(exp_df[exp_df['stimulus_category'] == 'freeze']['Temperature'].mean())\n",
    "print(exp_df[exp_df['stimulus_category'] == 'temp']['Temperature'].mean())\n",
    "print(exp_df[exp_df['stimulus_category'] == 'freeze']['Temperature'].std())\n",
    "print(exp_df[exp_df['stimulus_category'] == 'temp']['Temperature'].std())\n",
    "print(exp_df[exp_df['stimulus_category'] == 'freeze']['Temperature'].mean() - exp_df[exp_df['stimulus_category'] == 'temp']['Temperature'].mean())\n",
    "stats.ttest_ind(exp_df[exp_df['stimulus_category'] == 'freeze']['Temperature'], exp_df[exp_df['stimulus_category'] == 'temp']['Temperature'])"
   ]
  },
  {
   "cell_type": "code",
   "execution_count": 28,
   "id": "59feb4f5",
   "metadata": {},
   "outputs": [
    {
     "name": "stdout",
     "output_type": "stream",
     "text": [
      "8.0\n",
      "6.294117647058823\n",
      "1.929180948079983\n",
      "2.21838596531952\n",
      "1.7058823529411766\n"
     ]
    },
    {
     "data": {
      "text/plain": [
       "TtestResult(statistic=6.2836690651583025, pvalue=1.6091653710945624e-09, df=233.0)"
      ]
     },
     "execution_count": 28,
     "metadata": {},
     "output_type": "execute_result"
    }
   ],
   "source": [
    "print(exp_df[exp_df['stimulus_category'] == 'freeze']['Freeze'].mean())\n",
    "print(exp_df[exp_df['stimulus_category'] == 'temp']['Freeze'].mean())\n",
    "print(exp_df[exp_df['stimulus_category'] == 'freeze']['Freeze'].std())\n",
    "print(exp_df[exp_df['stimulus_category'] == 'temp']['Freeze'].std())\n",
    "print(exp_df[exp_df['stimulus_category'] == 'freeze']['Freeze'].mean() - exp_df[exp_df['stimulus_category'] == 'temp']['Freeze'].mean())\n",
    "stats.ttest_ind(exp_df[exp_df['stimulus_category'] == 'freeze']['Freeze'], exp_df[exp_df['stimulus_category'] == 'temp']['Freeze'])"
   ]
  },
  {
   "cell_type": "code",
   "execution_count": 21,
   "id": "6a677689",
   "metadata": {},
   "outputs": [
    {
     "name": "stdout",
     "output_type": "stream",
     "text": [
      "1.7058823529411766\n"
     ]
    },
    {
     "data": {
      "text/plain": [
       "TtestResult(statistic=6.2836690651583025, pvalue=1.6091653710945624e-09, df=233.0)"
      ]
     },
     "execution_count": 21,
     "metadata": {},
     "output_type": "execute_result"
    }
   ],
   "source": [
    "print(exp_df[exp_df['stimulus_category'] == 'freeze']['Freeze'].mean() - exp_df[exp_df['stimulus_category'] == 'temp']['Freeze'].mean())\n",
    "stats.ttest_ind(exp_df[exp_df['stimulus_category'] == 'freeze']['Freeze'], exp_df[exp_df['stimulus_category'] == 'temp']['Freeze'])"
   ]
  },
  {
   "cell_type": "code",
   "execution_count": 22,
   "id": "01fa0286",
   "metadata": {},
   "outputs": [
    {
     "data": {
      "text/plain": [
       "Text(0.5, 1.0, 'Perceived Change in Climate')"
      ]
     },
     "execution_count": 22,
     "metadata": {},
     "output_type": "execute_result"
    },
    {
     "data": {
      "image/png": "[encoded data removed]",
      "text/plain": [
       "<Figure size 640x480 with 1 Axes>"
      ]
     },
     "metadata": {},
     "output_type": "display_data"
    }
   ],
   "source": [
    "bp1 = plt.boxplot(exp_freeze_df['Climate'], positions=[1], patch_artist=True, boxprops=dict(facecolor=\"tab:blue\"), medianprops = dict(color = \"black\", linewidth = 1.5))\n",
    "bp2 = plt.boxplot(exp_temp_df['Climate'], positions=[2], patch_artist=True, boxprops=dict(facecolor=\"coral\"), medianprops = dict(color = \"black\", linewidth = 1.5))\n",
    "plt.legend([bp1[\"boxes\"][0], bp2[\"boxes\"][0]], ['freeze stimulus', 'temp stimulus'],  bbox_to_anchor=(1, 0.5))\n",
    "plt.title('Perceived Change in Climate')"
   ]
  },
  {
   "cell_type": "code",
   "execution_count": 23,
   "id": "02493df0",
   "metadata": {},
   "outputs": [
    {
     "name": "stderr",
     "output_type": "stream",
     "text": [
      "C:\\Users\\grace\\AppData\\Local\\Temp\\ipykernel_16368\\1334726928.py:28: UserWarning: Matplotlib is currently using module://matplotlib_inline.backend_inline, which is a non-GUI backend, so cannot show the figure.\n",
      "  fig.show()\n"
     ]
    },
    {
     "data": {
      "image/png": "[encoded data removed]",
      "text/plain": [
       "<Figure size 400x800 with 4 Axes>"
      ]
     },
     "metadata": {},
     "output_type": "display_data"
    }
   ],
   "source": [
    "question_categories = ['Climate', 'Temperature', 'Freeze']\n",
    "fig, axs = plt.subplots(3, figsize = (4, 8))\n",
    "fig.tight_layout(h_pad = 3)\n",
    "i = 0\n",
    "\n",
    "fig.add_subplot(111, frameon=False)\n",
    "# hide tick and tick label of the big axes\n",
    "plt.tick_params(labelcolor='none', top=False, bottom=False, left=False, right=False)\n",
    "plt.grid(False)\n",
    "\n",
    "for cat in question_categories:\n",
    "    mean_diff_freeze = exp_freeze_df[cat].mean()\n",
    "    stderr_freeze = exp_freeze_df[cat].sem()\n",
    "    mean_diff_temp = exp_temp_df[cat].mean()\n",
    "    stderr_temp = exp_temp_df[cat].sem()\n",
    "    p_value = stats.ttest_ind(exp_freeze_df[cat], exp_temp_df[cat])[1]\n",
    "    \n",
    "    bp1 = axs[i].boxplot(exp_freeze_df['Climate'], positions=[1], patch_artist=True, boxprops=dict(facecolor=\"tab:blue\"), medianprops = dict(color = \"black\", linewidth = 1.5))\n",
    "    bp2 = axs[i].boxplot(exp_temp_df['Climate'], positions=[2], patch_artist=True, boxprops=dict(facecolor=\"coral\"), medianprops = dict(color = \"black\", linewidth = 1.5))\n",
    "    axs[i].set_title('Perceived Change in ' + cat)\n",
    "    axs[i].set_xticks((np.arange(1)+1.5), (('p = ' + '{:0.2e}'.format(p_value)),))\n",
    "    \n",
    "    i += 1\n",
    "    \n",
    "axs[1].legend([bp1[\"boxes\"][0], bp2[\"boxes\"][0]], ['freeze stimulus', 'temp stimulus'],  bbox_to_anchor=(1, 0.5))\n",
    "plt.ylabel('Mean Participant Response (10-point scale)')\n",
    "\n",
    "fig.show()"
   ]
  },
  {
   "cell_type": "code",
   "execution_count": 24,
   "id": "4259dedc",
   "metadata": {},
   "outputs": [
    {
     "name": "stderr",
     "output_type": "stream",
     "text": [
      "C:\\Users\\grace\\AppData\\Local\\Temp\\ipykernel_16368\\3706444644.py:36: UserWarning: Matplotlib is currently using module://matplotlib_inline.backend_inline, which is a non-GUI backend, so cannot show the figure.\n",
      "  fig.show()\n"
     ]
    },
    {
     "data": {
      "image/png": "[encoded data removed]",
      "text/plain": [
       "<Figure size 1200x400 with 4 Axes>"
      ]
     },
     "metadata": {},
     "output_type": "display_data"
    }
   ],
   "source": [
    "question_categories = ['Climate', 'Temperature', 'Freeze']\n",
    "fig, axs = plt.subplots(1, 3, figsize = (12, 4))\n",
    "fig.tight_layout(h_pad = 3)\n",
    "i = 0\n",
    "\n",
    "fig.add_subplot(111, frameon=False)\n",
    "# hide tick and tick label of the big axes\n",
    "plt.tick_params(labelcolor='none', top=False, bottom=False, left=False, right=False)\n",
    "plt.grid(False)\n",
    "\n",
    "for cat in question_categories:\n",
    "    mean_diff_freeze = exp_freeze_df[cat].mean()\n",
    "    stderr_freeze = exp_freeze_df[cat].sem()\n",
    "    mean_diff_temp = exp_temp_df[cat].mean()\n",
    "    stderr_temp = exp_temp_df[cat].sem()\n",
    "    p_value = stats.ttest_ind(exp_freeze_df[cat], exp_temp_df[cat])[1]\n",
    "    temp_sample_size = len(exp_temp_df[cat])\n",
    "    freeze_sample_size = len(exp_freeze_df[cat])\n",
    "    \n",
    "    width = .25\n",
    "    axs[i].bar(.375, mean_diff_freeze, width, color = \"tab:blue\", label = \"freeze stimulus\")\n",
    "    axs[i].errorbar(0.375, mean_diff_freeze, yerr = stderr_freeze, fmt=\"none\", color = 'black', elinewidth = 1, capsize = 1.5)\n",
    "    axs[i].bar(.625, mean_diff_temp, width, color = \"coral\", label = \"temp stimulus\")\n",
    "    axs[i].errorbar(.625, mean_diff_temp, yerr = stderr_temp, fmt=\"none\", color = 'black', elinewidth = 1, capsize = 1.5)\n",
    "    axs[i].set_title('Perceived Change in ' + cat, fontsize=14)\n",
    "    axs[i].set_xticks((np.arange(1)+0.5), (('p = ' + '{:0.2e}'.format(p_value)),), fontsize=14)\n",
    "    if i == 1:\n",
    "        axs[i].set_xticks((np.arange(1)+0.5), (('p = ' + '{:0.2e}'.format(p_value)+ '\\nn = (' + str(freeze_sample_size) + \", \" + str(temp_sample_size) + ')'),), fontsize=14)\n",
    "    axs[i].set_ylim(0,10)\n",
    "    axs[i].set_xlim(0,1)\n",
    "    i += 1\n",
    "    \n",
    "axs[1].legend(fontsize=12) #loc = 'lower center', bbox_to_anchor=(0.5, -0.4)\n",
    "plt.ylabel('Mean Participant Response \\n(10-point scale)', fontsize=14)\n",
    "\n",
    "fig.show()"
   ]
  },
  {
   "cell_type": "code",
   "execution_count": null,
   "id": "f4489ac2",
   "metadata": {},
   "outputs": [],
   "source": []
  }
 ],
 "metadata": {
  "kernelspec": {
   "display_name": "Python 3 (ipykernel)",
   "language": "python",
   "name": "python3"
  },
  "language_info": {
   "codemirror_mode": {
    "name": "ipython",
    "version": 3
   },
   "file_extension": ".py",
   "mimetype": "text/x-python",
   "name": "python",
   "nbconvert_exporter": "python",
   "pygments_lexer": "ipython3",
   "version": "3.10.13"
  }
 },
 "nbformat": 4,
 "nbformat_minor": 5
}
