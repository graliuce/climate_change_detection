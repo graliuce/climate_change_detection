{
 "cells": [
  {
   "cell_type": "code",
   "execution_count": 6,
   "id": "77d718fb",
   "metadata": {},
   "outputs": [],
   "source": [
    "import pandas as pd\n",
    "import numpy as np\n",
    "import matplotlib.pyplot as plt\n",
    "import seaborn as sns\n",
    "import re\n",
    "\n",
    "from pymongo.mongo_client import MongoClient\n",
    "from pymongo.server_api import ServerApi\n",
    "\n",
    "import os\n",
    "from dotenv import load_dotenv # add this line\n",
    "\n",
    "import json\n",
    "\n",
    "from scipy import stats\n",
    "from scipy import special\n",
    "from statsmodels.stats.proportion import proportions_ztest"
   ]
  },
  {
   "cell_type": "code",
   "execution_count": 7,
   "id": "ea40a1f7",
   "metadata": {},
   "outputs": [],
   "source": [
    "# Python program to read\n",
    "# json file\n",
    " \n",
    "import json\n",
    " \n",
    "# Opening JSON file\n",
    "f = open(\"cpd_experiment_results.json\")\n",
    " \n",
    "# returns JSON object as \n",
    "# a dictionary\n",
    "data = json.load(f)\n",
    "\n",
    "f.close()"
   ]
  },
  {
   "cell_type": "code",
   "execution_count": 8,
   "id": "c19cf780",
   "metadata": {},
   "outputs": [],
   "source": [
    "exp_df = pd.DataFrame(list(data))\n",
    "exp_df = pd.concat([exp_df.drop(['data'], axis=1), exp_df['data'].apply(pd.Series)], axis=1)\n",
    "exp_df = pd.concat([exp_df.drop(['trials'], axis=1), exp_df['trials'].apply(pd.Series)], axis=1)"
   ]
  },
  {
   "cell_type": "code",
   "execution_count": 9,
   "id": "a6a97a70",
   "metadata": {},
   "outputs": [],
   "source": [
    "exp_df = exp_df[[4, 7, 6, 8, 9]]\n",
    "\n",
    "exp_df = pd.concat([exp_df.drop([4], axis=1), exp_df[4].apply(pd.Series)], axis=1)\n",
    "exp_df = exp_df.rename(columns={\"stimulus_type\": \"stimulus_category\"})\n",
    "exp_df = pd.concat([exp_df.drop([7], axis=1), exp_df[7].apply(pd.Series)], axis=1)"
   ]
  },
  {
   "cell_type": "code",
   "execution_count": 10,
   "id": "38db65a0",
   "metadata": {},
   "outputs": [],
   "source": [
    "exp_df = exp_df[[6,8,9, 'stimulus_category', 'response']]\n",
    "exp_df = exp_df.rename(columns={\"response\": \"response_cp\"})\n"
   ]
  },
  {
   "cell_type": "code",
   "execution_count": 11,
   "id": "3df2229d",
   "metadata": {},
   "outputs": [
    {
     "data": {
      "text/html": [
       "<div>\n",
       "<style scoped>\n",
       "    .dataframe tbody tr th:only-of-type {\n",
       "        vertical-align: middle;\n",
       "    }\n",
       "\n",
       "    .dataframe tbody tr th {\n",
       "        vertical-align: top;\n",
       "    }\n",
       "\n",
       "    .dataframe thead th {\n",
       "        text-align: right;\n",
       "    }\n",
       "</style>\n",
       "<table border=\"1\" class=\"dataframe\">\n",
       "  <thead>\n",
       "    <tr style=\"text-align: right;\">\n",
       "      <th></th>\n",
       "      <th>6</th>\n",
       "      <th>8</th>\n",
       "      <th>9</th>\n",
       "      <th>stimulus_category</th>\n",
       "      <th>response_cp</th>\n",
       "    </tr>\n",
       "  </thead>\n",
       "  <tbody>\n",
       "    <tr>\n",
       "      <th>0</th>\n",
       "      <td>{'rt': 12481, 'stimulus': '&lt;div style='float: ...</td>\n",
       "      <td>{'rt': 8161, 'stimulus': '&lt;div style='float: l...</td>\n",
       "      <td>{'rt': 11213, 'response': {'Climate': 7, 'Free...</td>\n",
       "      <td>freeze</td>\n",
       "      <td>{'Q0': ' Yes'}</td>\n",
       "    </tr>\n",
       "    <tr>\n",
       "      <th>1</th>\n",
       "      <td>{'rt': 7623, 'stimulus': '&lt;div style='float: c...</td>\n",
       "      <td>{'rt': 18197, 'stimulus': '&lt;div style='float: ...</td>\n",
       "      <td>{'rt': 13998, 'response': {'Temperature': 6, '...</td>\n",
       "      <td>temp</td>\n",
       "      <td>{'Q0': ' Not sure'}</td>\n",
       "    </tr>\n",
       "    <tr>\n",
       "      <th>2</th>\n",
       "      <td>{'rt': 20606, 'stimulus': '&lt;div style='float: ...</td>\n",
       "      <td>{'rt': 9607, 'stimulus': '&lt;div style='float: l...</td>\n",
       "      <td>{'rt': 22528, 'response': {'Climate': 9, 'Free...</td>\n",
       "      <td>freeze</td>\n",
       "      <td>{'Q0': ' Yes'}</td>\n",
       "    </tr>\n",
       "    <tr>\n",
       "      <th>3</th>\n",
       "      <td>{'rt': 12450, 'stimulus': '&lt;div style='float: ...</td>\n",
       "      <td>{'rt': 14156, 'stimulus': '&lt;div style='float: ...</td>\n",
       "      <td>{'rt': 14464, 'response': {'Temperature': 3, '...</td>\n",
       "      <td>freeze</td>\n",
       "      <td>{'Q0': ' Yes'}</td>\n",
       "    </tr>\n",
       "    <tr>\n",
       "      <th>4</th>\n",
       "      <td>{'rt': 11198, 'stimulus': '&lt;div style='float: ...</td>\n",
       "      <td>{'rt': 18812, 'stimulus': '&lt;div style='float: ...</td>\n",
       "      <td>{'rt': 16647, 'response': {'Freeze': 6, 'Atten...</td>\n",
       "      <td>temp</td>\n",
       "      <td>{'Q0': ' No'}</td>\n",
       "    </tr>\n",
       "    <tr>\n",
       "      <th>...</th>\n",
       "      <td>...</td>\n",
       "      <td>...</td>\n",
       "      <td>...</td>\n",
       "      <td>...</td>\n",
       "      <td>...</td>\n",
       "    </tr>\n",
       "    <tr>\n",
       "      <th>393</th>\n",
       "      <td>{'rt': 41990, 'stimulus': '&lt;div style='float: ...</td>\n",
       "      <td>{'rt': 168094, 'stimulus': '&lt;div style='float:...</td>\n",
       "      <td>{'rt': 120825, 'response': {'Temperature': 8, ...</td>\n",
       "      <td>freeze</td>\n",
       "      <td>{'Q0': ' Yes'}</td>\n",
       "    </tr>\n",
       "    <tr>\n",
       "      <th>394</th>\n",
       "      <td>{'rt': 3107, 'stimulus': '&lt;div style='float: c...</td>\n",
       "      <td>{'rt': 5735, 'stimulus': '&lt;div style='float: l...</td>\n",
       "      <td>{'rt': 7110, 'response': {'Freeze': 5, 'Attent...</td>\n",
       "      <td>freeze</td>\n",
       "      <td>{'Q0': ' Not sure'}</td>\n",
       "    </tr>\n",
       "    <tr>\n",
       "      <th>395</th>\n",
       "      <td>{'rt': 28780, 'stimulus': '&lt;div style='float: ...</td>\n",
       "      <td>{'rt': 44298, 'stimulus': '&lt;div style='float: ...</td>\n",
       "      <td>{'rt': 75414, 'response': {'Freeze': 2, 'Tempe...</td>\n",
       "      <td>temp</td>\n",
       "      <td>{'Q0': ' No'}</td>\n",
       "    </tr>\n",
       "    <tr>\n",
       "      <th>396</th>\n",
       "      <td>{'rt': 19714, 'stimulus': '&lt;div style='float: ...</td>\n",
       "      <td>{'rt': 19254, 'stimulus': '&lt;div style='float: ...</td>\n",
       "      <td>{'rt': 23656, 'response': {'Climate': 9, 'Free...</td>\n",
       "      <td>freeze</td>\n",
       "      <td>{'Q0': ' Not sure'}</td>\n",
       "    </tr>\n",
       "    <tr>\n",
       "      <th>397</th>\n",
       "      <td>{'rt': 22159, 'stimulus': '&lt;div style='float: ...</td>\n",
       "      <td>{'rt': 86584, 'stimulus': '&lt;div style='float: ...</td>\n",
       "      <td>{'rt': 49636, 'response': {'Attention': 9, 'Te...</td>\n",
       "      <td>freeze</td>\n",
       "      <td>{'Q0': ' Yes'}</td>\n",
       "    </tr>\n",
       "  </tbody>\n",
       "</table>\n",
       "<p>398 rows × 5 columns</p>\n",
       "</div>"
      ],
      "text/plain": [
       "                                                     6  \\\n",
       "0    {'rt': 12481, 'stimulus': '<div style='float: ...   \n",
       "1    {'rt': 7623, 'stimulus': '<div style='float: c...   \n",
       "2    {'rt': 20606, 'stimulus': '<div style='float: ...   \n",
       "3    {'rt': 12450, 'stimulus': '<div style='float: ...   \n",
       "4    {'rt': 11198, 'stimulus': '<div style='float: ...   \n",
       "..                                                 ...   \n",
       "393  {'rt': 41990, 'stimulus': '<div style='float: ...   \n",
       "394  {'rt': 3107, 'stimulus': '<div style='float: c...   \n",
       "395  {'rt': 28780, 'stimulus': '<div style='float: ...   \n",
       "396  {'rt': 19714, 'stimulus': '<div style='float: ...   \n",
       "397  {'rt': 22159, 'stimulus': '<div style='float: ...   \n",
       "\n",
       "                                                     8  \\\n",
       "0    {'rt': 8161, 'stimulus': '<div style='float: l...   \n",
       "1    {'rt': 18197, 'stimulus': '<div style='float: ...   \n",
       "2    {'rt': 9607, 'stimulus': '<div style='float: l...   \n",
       "3    {'rt': 14156, 'stimulus': '<div style='float: ...   \n",
       "4    {'rt': 18812, 'stimulus': '<div style='float: ...   \n",
       "..                                                 ...   \n",
       "393  {'rt': 168094, 'stimulus': '<div style='float:...   \n",
       "394  {'rt': 5735, 'stimulus': '<div style='float: l...   \n",
       "395  {'rt': 44298, 'stimulus': '<div style='float: ...   \n",
       "396  {'rt': 19254, 'stimulus': '<div style='float: ...   \n",
       "397  {'rt': 86584, 'stimulus': '<div style='float: ...   \n",
       "\n",
       "                                                     9 stimulus_category  \\\n",
       "0    {'rt': 11213, 'response': {'Climate': 7, 'Free...            freeze   \n",
       "1    {'rt': 13998, 'response': {'Temperature': 6, '...              temp   \n",
       "2    {'rt': 22528, 'response': {'Climate': 9, 'Free...            freeze   \n",
       "3    {'rt': 14464, 'response': {'Temperature': 3, '...            freeze   \n",
       "4    {'rt': 16647, 'response': {'Freeze': 6, 'Atten...              temp   \n",
       "..                                                 ...               ...   \n",
       "393  {'rt': 120825, 'response': {'Temperature': 8, ...            freeze   \n",
       "394  {'rt': 7110, 'response': {'Freeze': 5, 'Attent...            freeze   \n",
       "395  {'rt': 75414, 'response': {'Freeze': 2, 'Tempe...              temp   \n",
       "396  {'rt': 23656, 'response': {'Climate': 9, 'Free...            freeze   \n",
       "397  {'rt': 49636, 'response': {'Attention': 9, 'Te...            freeze   \n",
       "\n",
       "             response_cp  \n",
       "0         {'Q0': ' Yes'}  \n",
       "1    {'Q0': ' Not sure'}  \n",
       "2         {'Q0': ' Yes'}  \n",
       "3         {'Q0': ' Yes'}  \n",
       "4          {'Q0': ' No'}  \n",
       "..                   ...  \n",
       "393       {'Q0': ' Yes'}  \n",
       "394  {'Q0': ' Not sure'}  \n",
       "395        {'Q0': ' No'}  \n",
       "396  {'Q0': ' Not sure'}  \n",
       "397       {'Q0': ' Yes'}  \n",
       "\n",
       "[398 rows x 5 columns]"
      ]
     },
     "execution_count": 11,
     "metadata": {},
     "output_type": "execute_result"
    }
   ],
   "source": [
    "exp_df"
   ]
  },
  {
   "cell_type": "code",
   "execution_count": 12,
   "id": "1e62fb7c",
   "metadata": {},
   "outputs": [],
   "source": [
    "exp_df = pd.concat([exp_df.drop([8], axis=1), exp_df[8].apply(pd.Series)], axis=1)\n",
    "exp_df = exp_df[[6, 9, 'rt', 'response', 'stimulus_category', 'response_cp']]\n",
    "exp_df = exp_df.rename(columns={\"response\": \"response_slider\"})\n",
    "exp_df = exp_df.rename(columns={\"rt\": \"response_time\"})\n",
    "exp_df = pd.concat([exp_df.drop([6], axis=1), exp_df[6].apply(pd.Series)], axis=1)\n",
    "exp_df = exp_df[[9,'response_time', 'response_slider', 'stimulus_type', 'stimulus_category', 'response_cp']]"
   ]
  },
  {
   "cell_type": "code",
   "execution_count": 13,
   "id": "ce109fe2",
   "metadata": {},
   "outputs": [],
   "source": [
    "\n",
    "exp_df = pd.concat([exp_df.drop([9], axis=1), exp_df[9].apply(pd.Series)], axis=1)\n",
    "exp_df = exp_df.rename(columns={\"response\": \"response_survey\"})\n",
    "exp_df = exp_df[['response_time','stimulus_type', 'stimulus_category', 'response_cp','response_survey', 'response_slider']]\n",
    "\n",
    "exp_df = pd.concat([exp_df.drop(['response_survey'], axis=1), exp_df['response_survey'].apply(pd.Series)], axis=1)\n",
    "\n",
    "# keep only entries where subject was paying attention\n",
    "exp_df = exp_df[exp_df['Attention'] == 9]\n",
    "exp_df = exp_df[exp_df['response_time'] >= 2000]"
   ]
  },
  {
   "cell_type": "code",
   "execution_count": 14,
   "id": "e046dd17",
   "metadata": {},
   "outputs": [],
   "source": [
    "exp_df['response_cp'] = [answer['Q0'] for answer in exp_df['response_cp']]"
   ]
  },
  {
   "cell_type": "code",
   "execution_count": 15,
   "id": "4f6c8f5c",
   "metadata": {},
   "outputs": [],
   "source": [
    "exp_df['correlation'] = exp_df['stimulus_type'].str.extract('(\\d+\\.\\d+)', expand=False).astype(float)"
   ]
  },
  {
   "cell_type": "code",
   "execution_count": 16,
   "id": "36644309",
   "metadata": {},
   "outputs": [],
   "source": [
    "exp_df.dropna(axis = 1, inplace = True, how = 'all')\n",
    "exp_df.dropna(axis = 0, inplace = True, how = 'all')"
   ]
  },
  {
   "cell_type": "code",
   "execution_count": 17,
   "id": "8ee49641",
   "metadata": {},
   "outputs": [
    {
     "data": {
      "text/html": [
       "<div>\n",
       "<style scoped>\n",
       "    .dataframe tbody tr th:only-of-type {\n",
       "        vertical-align: middle;\n",
       "    }\n",
       "\n",
       "    .dataframe tbody tr th {\n",
       "        vertical-align: top;\n",
       "    }\n",
       "\n",
       "    .dataframe thead th {\n",
       "        text-align: right;\n",
       "    }\n",
       "</style>\n",
       "<table border=\"1\" class=\"dataframe\">\n",
       "  <thead>\n",
       "    <tr style=\"text-align: right;\">\n",
       "      <th></th>\n",
       "      <th>response_time</th>\n",
       "      <th>stimulus_type</th>\n",
       "      <th>stimulus_category</th>\n",
       "      <th>response_cp</th>\n",
       "      <th>response_slider</th>\n",
       "      <th>Climate</th>\n",
       "      <th>Freeze</th>\n",
       "      <th>Attention</th>\n",
       "      <th>Temperature</th>\n",
       "      <th>correlation</th>\n",
       "    </tr>\n",
       "  </thead>\n",
       "  <tbody>\n",
       "    <tr>\n",
       "      <th>0</th>\n",
       "      <td>8161</td>\n",
       "      <td>../img/plots/binary_0.230878804398407_.png</td>\n",
       "      <td>freeze</td>\n",
       "      <td>Yes</td>\n",
       "      <td>1983</td>\n",
       "      <td>7</td>\n",
       "      <td>7</td>\n",
       "      <td>9</td>\n",
       "      <td>7</td>\n",
       "      <td>0.230879</td>\n",
       "    </tr>\n",
       "    <tr>\n",
       "      <th>1</th>\n",
       "      <td>18197</td>\n",
       "      <td>../img/plots/continuous_0.44278258556149_.png</td>\n",
       "      <td>temp</td>\n",
       "      <td>Not sure</td>\n",
       "      <td>1947</td>\n",
       "      <td>5</td>\n",
       "      <td>5</td>\n",
       "      <td>9</td>\n",
       "      <td>6</td>\n",
       "      <td>0.442783</td>\n",
       "    </tr>\n",
       "    <tr>\n",
       "      <th>2</th>\n",
       "      <td>9607</td>\n",
       "      <td>../img/plots/binary_0.659323805510727_.png</td>\n",
       "      <td>freeze</td>\n",
       "      <td>Yes</td>\n",
       "      <td>1973</td>\n",
       "      <td>9</td>\n",
       "      <td>9</td>\n",
       "      <td>9</td>\n",
       "      <td>9</td>\n",
       "      <td>0.659324</td>\n",
       "    </tr>\n",
       "    <tr>\n",
       "      <th>3</th>\n",
       "      <td>14156</td>\n",
       "      <td>../img/plots/binary_0.44278258556149_.png</td>\n",
       "      <td>freeze</td>\n",
       "      <td>Yes</td>\n",
       "      <td>1996</td>\n",
       "      <td>5</td>\n",
       "      <td>3</td>\n",
       "      <td>9</td>\n",
       "      <td>3</td>\n",
       "      <td>0.442783</td>\n",
       "    </tr>\n",
       "    <tr>\n",
       "      <th>4</th>\n",
       "      <td>18812</td>\n",
       "      <td>../img/plots/continuous_0.659323805510727_.png</td>\n",
       "      <td>temp</td>\n",
       "      <td>No</td>\n",
       "      <td>1983</td>\n",
       "      <td>6</td>\n",
       "      <td>6</td>\n",
       "      <td>9</td>\n",
       "      <td>6</td>\n",
       "      <td>0.659324</td>\n",
       "    </tr>\n",
       "    <tr>\n",
       "      <th>...</th>\n",
       "      <td>...</td>\n",
       "      <td>...</td>\n",
       "      <td>...</td>\n",
       "      <td>...</td>\n",
       "      <td>...</td>\n",
       "      <td>...</td>\n",
       "      <td>...</td>\n",
       "      <td>...</td>\n",
       "      <td>...</td>\n",
       "      <td>...</td>\n",
       "    </tr>\n",
       "    <tr>\n",
       "      <th>392</th>\n",
       "      <td>11212</td>\n",
       "      <td>../img/plots/continuous_0.230878804398407_.png</td>\n",
       "      <td>temp</td>\n",
       "      <td>Yes</td>\n",
       "      <td>1979</td>\n",
       "      <td>7</td>\n",
       "      <td>6</td>\n",
       "      <td>9</td>\n",
       "      <td>5</td>\n",
       "      <td>0.230879</td>\n",
       "    </tr>\n",
       "    <tr>\n",
       "      <th>394</th>\n",
       "      <td>5735</td>\n",
       "      <td>../img/plots/binary_0.230878804398407_.png</td>\n",
       "      <td>freeze</td>\n",
       "      <td>Not sure</td>\n",
       "      <td>1971</td>\n",
       "      <td>6</td>\n",
       "      <td>5</td>\n",
       "      <td>9</td>\n",
       "      <td>7</td>\n",
       "      <td>0.230879</td>\n",
       "    </tr>\n",
       "    <tr>\n",
       "      <th>395</th>\n",
       "      <td>44298</td>\n",
       "      <td>../img/plots/continuous_0.230878804398407_.png</td>\n",
       "      <td>temp</td>\n",
       "      <td>No</td>\n",
       "      <td>1999</td>\n",
       "      <td>2</td>\n",
       "      <td>2</td>\n",
       "      <td>9</td>\n",
       "      <td>2</td>\n",
       "      <td>0.230879</td>\n",
       "    </tr>\n",
       "    <tr>\n",
       "      <th>396</th>\n",
       "      <td>19254</td>\n",
       "      <td>../img/plots/binary_0.659323805510727_.png</td>\n",
       "      <td>freeze</td>\n",
       "      <td>Not sure</td>\n",
       "      <td>1973</td>\n",
       "      <td>9</td>\n",
       "      <td>9</td>\n",
       "      <td>9</td>\n",
       "      <td>9</td>\n",
       "      <td>0.659324</td>\n",
       "    </tr>\n",
       "    <tr>\n",
       "      <th>397</th>\n",
       "      <td>86584</td>\n",
       "      <td>../img/plots/binary_0.230878804398407_.png</td>\n",
       "      <td>freeze</td>\n",
       "      <td>Yes</td>\n",
       "      <td>1982</td>\n",
       "      <td>9</td>\n",
       "      <td>8</td>\n",
       "      <td>9</td>\n",
       "      <td>8</td>\n",
       "      <td>0.230879</td>\n",
       "    </tr>\n",
       "  </tbody>\n",
       "</table>\n",
       "<p>392 rows × 10 columns</p>\n",
       "</div>"
      ],
      "text/plain": [
       "     response_time                                   stimulus_type  \\\n",
       "0             8161      ../img/plots/binary_0.230878804398407_.png   \n",
       "1            18197   ../img/plots/continuous_0.44278258556149_.png   \n",
       "2             9607      ../img/plots/binary_0.659323805510727_.png   \n",
       "3            14156       ../img/plots/binary_0.44278258556149_.png   \n",
       "4            18812  ../img/plots/continuous_0.659323805510727_.png   \n",
       "..             ...                                             ...   \n",
       "392          11212  ../img/plots/continuous_0.230878804398407_.png   \n",
       "394           5735      ../img/plots/binary_0.230878804398407_.png   \n",
       "395          44298  ../img/plots/continuous_0.230878804398407_.png   \n",
       "396          19254      ../img/plots/binary_0.659323805510727_.png   \n",
       "397          86584      ../img/plots/binary_0.230878804398407_.png   \n",
       "\n",
       "    stimulus_category response_cp  response_slider  Climate  Freeze  \\\n",
       "0              freeze         Yes             1983        7       7   \n",
       "1                temp    Not sure             1947        5       5   \n",
       "2              freeze         Yes             1973        9       9   \n",
       "3              freeze         Yes             1996        5       3   \n",
       "4                temp          No             1983        6       6   \n",
       "..                ...         ...              ...      ...     ...   \n",
       "392              temp         Yes             1979        7       6   \n",
       "394            freeze    Not sure             1971        6       5   \n",
       "395              temp          No             1999        2       2   \n",
       "396            freeze    Not sure             1973        9       9   \n",
       "397            freeze         Yes             1982        9       8   \n",
       "\n",
       "     Attention  Temperature  correlation  \n",
       "0            9            7     0.230879  \n",
       "1            9            6     0.442783  \n",
       "2            9            9     0.659324  \n",
       "3            9            3     0.442783  \n",
       "4            9            6     0.659324  \n",
       "..         ...          ...          ...  \n",
       "392          9            5     0.230879  \n",
       "394          9            7     0.230879  \n",
       "395          9            2     0.230879  \n",
       "396          9            9     0.659324  \n",
       "397          9            8     0.230879  \n",
       "\n",
       "[392 rows x 10 columns]"
      ]
     },
     "execution_count": 17,
     "metadata": {},
     "output_type": "execute_result"
    }
   ],
   "source": [
    "exp_df"
   ]
  },
  {
   "cell_type": "code",
   "execution_count": 34,
   "id": "9be2fd4d",
   "metadata": {},
   "outputs": [],
   "source": [
    "exp_freeze_df = exp_df[exp_df['stimulus_category'] == 'freeze']\n",
    "exp_temp_df = exp_df[exp_df['stimulus_category'] == 'temp']"
   ]
  },
  {
   "cell_type": "code",
   "execution_count": 35,
   "id": "f7493e58",
   "metadata": {},
   "outputs": [
    {
     "data": {
      "text/plain": [
       "207"
      ]
     },
     "execution_count": 35,
     "metadata": {},
     "output_type": "execute_result"
    }
   ],
   "source": [
    "len(exp_freeze_df)"
   ]
  },
  {
   "cell_type": "code",
   "execution_count": 36,
   "id": "944f9c01",
   "metadata": {
    "scrolled": true
   },
   "outputs": [
    {
     "data": {
      "text/plain": [
       "185"
      ]
     },
     "execution_count": 36,
     "metadata": {},
     "output_type": "execute_result"
    }
   ],
   "source": [
    "len(exp_temp_df)"
   ]
  },
  {
   "cell_type": "code",
   "execution_count": 37,
   "id": "798825b5",
   "metadata": {},
   "outputs": [],
   "source": [
    "exp_df = pd.concat([exp_freeze_df, exp_temp_df], axis = 0)"
   ]
  },
  {
   "cell_type": "code",
   "execution_count": 38,
   "id": "f4489ac2",
   "metadata": {},
   "outputs": [
    {
     "data": {
      "text/html": [
       "<div>\n",
       "<style scoped>\n",
       "    .dataframe tbody tr th:only-of-type {\n",
       "        vertical-align: middle;\n",
       "    }\n",
       "\n",
       "    .dataframe tbody tr th {\n",
       "        vertical-align: top;\n",
       "    }\n",
       "\n",
       "    .dataframe thead th {\n",
       "        text-align: right;\n",
       "    }\n",
       "</style>\n",
       "<table border=\"1\" class=\"dataframe\">\n",
       "  <thead>\n",
       "    <tr style=\"text-align: right;\">\n",
       "      <th></th>\n",
       "      <th>response_time</th>\n",
       "      <th>response_slider</th>\n",
       "      <th>Climate</th>\n",
       "      <th>Freeze</th>\n",
       "      <th>Attention</th>\n",
       "      <th>Temperature</th>\n",
       "      <th>correlation</th>\n",
       "    </tr>\n",
       "  </thead>\n",
       "  <tbody>\n",
       "    <tr>\n",
       "      <th>count</th>\n",
       "      <td>207.000000</td>\n",
       "      <td>207.000000</td>\n",
       "      <td>207.000000</td>\n",
       "      <td>207.000000</td>\n",
       "      <td>207.0</td>\n",
       "      <td>207.000000</td>\n",
       "      <td>207.000000</td>\n",
       "    </tr>\n",
       "    <tr>\n",
       "      <th>mean</th>\n",
       "      <td>26065.946860</td>\n",
       "      <td>1974.734300</td>\n",
       "      <td>6.676329</td>\n",
       "      <td>6.714976</td>\n",
       "      <td>9.0</td>\n",
       "      <td>6.705314</td>\n",
       "      <td>0.443148</td>\n",
       "    </tr>\n",
       "    <tr>\n",
       "      <th>std</th>\n",
       "      <td>23351.357976</td>\n",
       "      <td>10.935465</td>\n",
       "      <td>2.001594</td>\n",
       "      <td>1.830411</td>\n",
       "      <td>0.0</td>\n",
       "      <td>1.605549</td>\n",
       "      <td>0.166868</td>\n",
       "    </tr>\n",
       "    <tr>\n",
       "      <th>min</th>\n",
       "      <td>5360.000000</td>\n",
       "      <td>1940.000000</td>\n",
       "      <td>0.000000</td>\n",
       "      <td>0.000000</td>\n",
       "      <td>9.0</td>\n",
       "      <td>1.000000</td>\n",
       "      <td>0.230879</td>\n",
       "    </tr>\n",
       "    <tr>\n",
       "      <th>25%</th>\n",
       "      <td>13606.500000</td>\n",
       "      <td>1970.000000</td>\n",
       "      <td>6.000000</td>\n",
       "      <td>6.000000</td>\n",
       "      <td>9.0</td>\n",
       "      <td>6.000000</td>\n",
       "      <td>0.230879</td>\n",
       "    </tr>\n",
       "    <tr>\n",
       "      <th>50%</th>\n",
       "      <td>19279.000000</td>\n",
       "      <td>1973.000000</td>\n",
       "      <td>7.000000</td>\n",
       "      <td>7.000000</td>\n",
       "      <td>9.0</td>\n",
       "      <td>7.000000</td>\n",
       "      <td>0.442783</td>\n",
       "    </tr>\n",
       "    <tr>\n",
       "      <th>75%</th>\n",
       "      <td>30292.000000</td>\n",
       "      <td>1983.000000</td>\n",
       "      <td>8.000000</td>\n",
       "      <td>8.000000</td>\n",
       "      <td>9.0</td>\n",
       "      <td>8.000000</td>\n",
       "      <td>0.659324</td>\n",
       "    </tr>\n",
       "    <tr>\n",
       "      <th>max</th>\n",
       "      <td>230262.000000</td>\n",
       "      <td>2005.000000</td>\n",
       "      <td>9.000000</td>\n",
       "      <td>9.000000</td>\n",
       "      <td>9.0</td>\n",
       "      <td>9.000000</td>\n",
       "      <td>0.659324</td>\n",
       "    </tr>\n",
       "  </tbody>\n",
       "</table>\n",
       "</div>"
      ],
      "text/plain": [
       "       response_time  response_slider     Climate      Freeze  Attention  \\\n",
       "count     207.000000       207.000000  207.000000  207.000000      207.0   \n",
       "mean    26065.946860      1974.734300    6.676329    6.714976        9.0   \n",
       "std     23351.357976        10.935465    2.001594    1.830411        0.0   \n",
       "min      5360.000000      1940.000000    0.000000    0.000000        9.0   \n",
       "25%     13606.500000      1970.000000    6.000000    6.000000        9.0   \n",
       "50%     19279.000000      1973.000000    7.000000    7.000000        9.0   \n",
       "75%     30292.000000      1983.000000    8.000000    8.000000        9.0   \n",
       "max    230262.000000      2005.000000    9.000000    9.000000        9.0   \n",
       "\n",
       "       Temperature  correlation  \n",
       "count   207.000000   207.000000  \n",
       "mean      6.705314     0.443148  \n",
       "std       1.605549     0.166868  \n",
       "min       1.000000     0.230879  \n",
       "25%       6.000000     0.230879  \n",
       "50%       7.000000     0.442783  \n",
       "75%       8.000000     0.659324  \n",
       "max       9.000000     0.659324  "
      ]
     },
     "execution_count": 38,
     "metadata": {},
     "output_type": "execute_result"
    }
   ],
   "source": [
    "exp_freeze_df.describe()"
   ]
  },
  {
   "cell_type": "code",
   "execution_count": 39,
   "id": "57c6f800",
   "metadata": {
    "scrolled": true
   },
   "outputs": [
    {
     "data": {
      "text/html": [
       "<div>\n",
       "<style scoped>\n",
       "    .dataframe tbody tr th:only-of-type {\n",
       "        vertical-align: middle;\n",
       "    }\n",
       "\n",
       "    .dataframe tbody tr th {\n",
       "        vertical-align: top;\n",
       "    }\n",
       "\n",
       "    .dataframe thead th {\n",
       "        text-align: right;\n",
       "    }\n",
       "</style>\n",
       "<table border=\"1\" class=\"dataframe\">\n",
       "  <thead>\n",
       "    <tr style=\"text-align: right;\">\n",
       "      <th></th>\n",
       "      <th>response_time</th>\n",
       "      <th>response_slider</th>\n",
       "      <th>Climate</th>\n",
       "      <th>Freeze</th>\n",
       "      <th>Attention</th>\n",
       "      <th>Temperature</th>\n",
       "      <th>correlation</th>\n",
       "    </tr>\n",
       "  </thead>\n",
       "  <tbody>\n",
       "    <tr>\n",
       "      <th>count</th>\n",
       "      <td>185.000000</td>\n",
       "      <td>185.000000</td>\n",
       "      <td>185.000000</td>\n",
       "      <td>185.000000</td>\n",
       "      <td>185.0</td>\n",
       "      <td>185.000000</td>\n",
       "      <td>185.000000</td>\n",
       "    </tr>\n",
       "    <tr>\n",
       "      <th>mean</th>\n",
       "      <td>29783.762162</td>\n",
       "      <td>1980.951351</td>\n",
       "      <td>5.913514</td>\n",
       "      <td>5.518919</td>\n",
       "      <td>9.0</td>\n",
       "      <td>5.810811</td>\n",
       "      <td>0.457212</td>\n",
       "    </tr>\n",
       "    <tr>\n",
       "      <th>std</th>\n",
       "      <td>24384.363993</td>\n",
       "      <td>15.643891</td>\n",
       "      <td>2.072879</td>\n",
       "      <td>2.080165</td>\n",
       "      <td>0.0</td>\n",
       "      <td>2.011351</td>\n",
       "      <td>0.183096</td>\n",
       "    </tr>\n",
       "    <tr>\n",
       "      <th>min</th>\n",
       "      <td>4310.000000</td>\n",
       "      <td>1945.000000</td>\n",
       "      <td>0.000000</td>\n",
       "      <td>0.000000</td>\n",
       "      <td>9.0</td>\n",
       "      <td>0.000000</td>\n",
       "      <td>0.230879</td>\n",
       "    </tr>\n",
       "    <tr>\n",
       "      <th>25%</th>\n",
       "      <td>15024.000000</td>\n",
       "      <td>1971.000000</td>\n",
       "      <td>5.000000</td>\n",
       "      <td>4.000000</td>\n",
       "      <td>9.0</td>\n",
       "      <td>5.000000</td>\n",
       "      <td>0.230879</td>\n",
       "    </tr>\n",
       "    <tr>\n",
       "      <th>50%</th>\n",
       "      <td>22854.000000</td>\n",
       "      <td>1979.000000</td>\n",
       "      <td>6.000000</td>\n",
       "      <td>6.000000</td>\n",
       "      <td>9.0</td>\n",
       "      <td>6.000000</td>\n",
       "      <td>0.442783</td>\n",
       "    </tr>\n",
       "    <tr>\n",
       "      <th>75%</th>\n",
       "      <td>33485.000000</td>\n",
       "      <td>1998.000000</td>\n",
       "      <td>7.000000</td>\n",
       "      <td>7.000000</td>\n",
       "      <td>9.0</td>\n",
       "      <td>7.000000</td>\n",
       "      <td>0.659324</td>\n",
       "    </tr>\n",
       "    <tr>\n",
       "      <th>max</th>\n",
       "      <td>136518.000000</td>\n",
       "      <td>2009.000000</td>\n",
       "      <td>9.000000</td>\n",
       "      <td>9.000000</td>\n",
       "      <td>9.0</td>\n",
       "      <td>9.000000</td>\n",
       "      <td>0.659324</td>\n",
       "    </tr>\n",
       "  </tbody>\n",
       "</table>\n",
       "</div>"
      ],
      "text/plain": [
       "       response_time  response_slider     Climate      Freeze  Attention  \\\n",
       "count     185.000000       185.000000  185.000000  185.000000      185.0   \n",
       "mean    29783.762162      1980.951351    5.913514    5.518919        9.0   \n",
       "std     24384.363993        15.643891    2.072879    2.080165        0.0   \n",
       "min      4310.000000      1945.000000    0.000000    0.000000        9.0   \n",
       "25%     15024.000000      1971.000000    5.000000    4.000000        9.0   \n",
       "50%     22854.000000      1979.000000    6.000000    6.000000        9.0   \n",
       "75%     33485.000000      1998.000000    7.000000    7.000000        9.0   \n",
       "max    136518.000000      2009.000000    9.000000    9.000000        9.0   \n",
       "\n",
       "       Temperature  correlation  \n",
       "count   185.000000   185.000000  \n",
       "mean      5.810811     0.457212  \n",
       "std       2.011351     0.183096  \n",
       "min       0.000000     0.230879  \n",
       "25%       5.000000     0.230879  \n",
       "50%       6.000000     0.442783  \n",
       "75%       7.000000     0.659324  \n",
       "max       9.000000     0.659324  "
      ]
     },
     "execution_count": 39,
     "metadata": {},
     "output_type": "execute_result"
    }
   ],
   "source": [
    "exp_temp_df.describe()"
   ]
  },
  {
   "cell_type": "code",
   "execution_count": 46,
   "id": "a5b741ca",
   "metadata": {},
   "outputs": [
    {
     "name": "stdout",
     "output_type": "stream",
     "text": [
      "0.001\n",
      "0.041\n",
      "0.011\n"
     ]
    }
   ],
   "source": [
    "pval_list = []\n",
    "\n",
    "freeze_counts = exp_freeze_df['response_cp'].sort_values().value_counts().sort_index(ascending=False)\n",
    "temp_counts =  exp_temp_df['response_cp'].sort_values().value_counts().sort_index(ascending=False) \n",
    "for i in range(len(freeze_counts)):\n",
    "    count_freeze = freeze_counts.iloc[i]\n",
    "    count_temp = temp_counts.iloc[i]\n",
    "    nobs_freeze = sum(exp_freeze_df['response_cp'].sort_values().value_counts())\n",
    "    nobs_temp = sum(exp_temp_df['response_cp'].sort_values().value_counts())\n",
    "    count = np.array([count_freeze, count_temp])\n",
    "    nobs = np.array([nobs_freeze, nobs_temp])\n",
    "    stat, pval = proportions_ztest(count, nobs)\n",
    "    print('{0:0.3f}'.format(pval))\n",
    "    pval_list.append(pval)"
   ]
  },
  {
   "cell_type": "code",
   "execution_count": 52,
   "id": "675a6ea6",
   "metadata": {},
   "outputs": [
    {
     "data": {
      "image/png": "[encoded data removed]",
      "text/plain": [
       "<Figure size 800x400 with 1 Axes>"
      ]
     },
     "metadata": {},
     "output_type": "display_data"
    }
   ],
   "source": [
    "data_freeze = freeze_counts/ nobs_freeze\n",
    "data_temp = temp_counts / nobs_temp\n",
    "temp_err = np.sqrt(data_temp*(1-data_temp)/len(exp_temp_df['response_cp']))\n",
    "freeze_err = np.sqrt(data_freeze*(1-data_freeze)/len(exp_freeze_df['response_cp']))\n",
    "\n",
    "# Position of bars on x-axis\n",
    "N=3\n",
    "width = 0.3  \n",
    "\n",
    "ind = np.arange(N)\n",
    "plt.figure(figsize=(8,4))\n",
    "     \n",
    "plt.bar(ind, data_freeze, width, yerr = freeze_err, color = \"tab:blue\", label='freeze stimulus')\n",
    "plt.bar(ind + width, data_temp, width, yerr = temp_err, color = \"coral\", label='temp stimulus')\n",
    "\n",
    "#plt.title(\"Participants' responses on whether they identified a changepoint\")\n",
    "plt.ylabel(\"Proportion of responses\", fontsize=14)\n",
    "plt.xticks(ind + width / 2, ('Yes\\np = ' + '{:0.2e}'.format(pval_list[0]), 'Not sure\\np = ' + '{:0.2e}'.format(pval_list[1]), 'No\\np = ' + '{:0.2e}'.format(pval_list[2])), fontsize=14)\n",
    "plt.legend(fontsize=12)\n",
    "plt.show()\n"
   ]
  },
  {
   "cell_type": "code",
   "execution_count": 110,
   "id": "697b06f6",
   "metadata": {},
   "outputs": [
    {
     "data": {
      "text/plain": [
       "response_cp\n",
       " Yes         0.729469\n",
       " Not sure    0.202899\n",
       " No          0.067633\n",
       "Name: count, dtype: float64"
      ]
     },
     "execution_count": 110,
     "metadata": {},
     "output_type": "execute_result"
    }
   ],
   "source": [
    "data_freeze"
   ]
  },
  {
   "cell_type": "code",
   "execution_count": 111,
   "id": "a94a8568",
   "metadata": {},
   "outputs": [
    {
     "data": {
      "text/plain": [
       "response_cp\n",
       " Yes         0.562162\n",
       " Not sure    0.291892\n",
       " No          0.145946\n",
       "Name: count, dtype: float64"
      ]
     },
     "execution_count": 111,
     "metadata": {},
     "output_type": "execute_result"
    }
   ],
   "source": [
    "data_temp"
   ]
  },
  {
   "cell_type": "code",
   "execution_count": 45,
   "id": "b77902c8",
   "metadata": {},
   "outputs": [
    {
     "name": "stdout",
     "output_type": "stream",
     "text": [
      "0.001\n",
      "0.041\n",
      "0.011\n"
     ]
    }
   ],
   "source": [
    "pval_list = []\n",
    "\n",
    "freeze_counts = exp_freeze_df['response_cp'].sort_values().value_counts()\n",
    "temp_counts =  exp_temp_df['response_cp'].sort_values().value_counts()\n",
    "for i in range(len(freeze_counts)):\n",
    "    count_freeze = freeze_counts.iloc[i]\n",
    "    count_temp = temp_counts.iloc[i]\n",
    "    nobs_freeze = sum(exp_freeze_df['response_cp'].sort_values().value_counts())\n",
    "    nobs_temp = sum(exp_temp_df['response_cp'].sort_values().value_counts())\n",
    "    count = np.array([count_freeze, count_temp])\n",
    "    nobs = np.array([nobs_freeze, nobs_temp])\n",
    "    stat, pval = proportions_ztest(count, nobs)\n",
    "    print('{0:0.3f}'.format(pval))\n",
    "    pval_list.append(pval)"
   ]
  },
  {
   "cell_type": "code",
   "execution_count": 112,
   "id": "e7e9326e",
   "metadata": {},
   "outputs": [
    {
     "name": "stdout",
     "output_type": "stream",
     "text": [
      "0.001\n"
     ]
    },
    {
     "name": "stderr",
     "output_type": "stream",
     "text": [
      "C:\\Users\\grace\\AppData\\Local\\Temp\\ipykernel_372\\1389854183.py:1: FutureWarning: Series.__getitem__ treating keys as positions is deprecated. In a future version, integer keys will always be treated as labels (consistent with DataFrame behavior). To access a value by position, use `ser.iloc[pos]`\n",
      "  count_freeze = exp_freeze_df['response_cp'].sort_values().value_counts()[0]\n",
      "C:\\Users\\grace\\AppData\\Local\\Temp\\ipykernel_372\\1389854183.py:2: FutureWarning: Series.__getitem__ treating keys as positions is deprecated. In a future version, integer keys will always be treated as labels (consistent with DataFrame behavior). To access a value by position, use `ser.iloc[pos]`\n",
      "  count_temp = exp_temp_df['response_cp'].sort_values().value_counts()[0]\n"
     ]
    }
   ],
   "source": [
    "count_freeze = exp_freeze_df['response_cp'].sort_values().value_counts()[0]\n",
    "count_temp = exp_temp_df['response_cp'].sort_values().value_counts()[0]\n",
    "nobs_freeze = sum(exp_freeze_df['response_cp'].sort_values().value_counts())\n",
    "nobs_temp = sum(exp_temp_df['response_cp'].sort_values().value_counts())\n",
    "count = np.array([count_freeze, count_temp])\n",
    "nobs = np.array([nobs_freeze, nobs_temp])\n",
    "stat, pval = proportions_ztest(count, nobs)\n",
    "print('{0:0.3f}'.format(pval))"
   ]
  },
  {
   "cell_type": "code",
   "execution_count": 113,
   "id": "e933e9d2",
   "metadata": {},
   "outputs": [
    {
     "name": "stdout",
     "output_type": "stream",
     "text": [
      "0.011\n"
     ]
    },
    {
     "name": "stderr",
     "output_type": "stream",
     "text": [
      "C:\\Users\\grace\\AppData\\Local\\Temp\\ipykernel_372\\1338090552.py:1: FutureWarning: Series.__getitem__ treating keys as positions is deprecated. In a future version, integer keys will always be treated as labels (consistent with DataFrame behavior). To access a value by position, use `ser.iloc[pos]`\n",
      "  count_freeze = exp_freeze_df['response_cp'].sort_values().value_counts()[2]\n",
      "C:\\Users\\grace\\AppData\\Local\\Temp\\ipykernel_372\\1338090552.py:2: FutureWarning: Series.__getitem__ treating keys as positions is deprecated. In a future version, integer keys will always be treated as labels (consistent with DataFrame behavior). To access a value by position, use `ser.iloc[pos]`\n",
      "  count_temp = exp_temp_df['response_cp'].sort_values().value_counts()[2]\n"
     ]
    }
   ],
   "source": [
    "count_freeze = exp_freeze_df['response_cp'].sort_values().value_counts()[2]\n",
    "count_temp = exp_temp_df['response_cp'].sort_values().value_counts()[2]\n",
    "nobs_freeze = sum(exp_freeze_df['response_cp'].sort_values().value_counts())\n",
    "nobs_temp = sum(exp_temp_df['response_cp'].sort_values().value_counts())\n",
    "count = np.array([count_freeze, count_temp])\n",
    "nobs = np.array([nobs_freeze, nobs_temp])\n",
    "stat, pval = proportions_ztest(count, nobs)\n",
    "print('{0:0.3f}'.format(pval))"
   ]
  },
  {
   "cell_type": "code",
   "execution_count": 65,
   "id": "f754fd16",
   "metadata": {},
   "outputs": [
    {
     "name": "stderr",
     "output_type": "stream",
     "text": [
      "C:\\Users\\grace\\AppData\\Local\\Temp\\ipykernel_18328\\253746887.py:57: UserWarning: Matplotlib is currently using module://matplotlib_inline.backend_inline, which is a non-GUI backend, so cannot show the figure.\n",
      "  fig.show()\n"
     ]
    },
    {
     "data": {
      "image/png": "[encoded data removed]",
      "text/plain": [
       "<Figure size 640x480 with 7 Axes>"
      ]
     },
     "metadata": {},
     "output_type": "display_data"
    }
   ],
   "source": [
    "low_cor_df = exp_df.loc[exp_df['correlation'] < 0.3]\n",
    "mid_cor_df = exp_df.loc[(exp_df['correlation'] >= 0.3) & (exp_df['correlation'] < 0.5)]\n",
    "high_cor_df = exp_df.loc[(exp_df['correlation'] >= 0.5) & (exp_df['correlation'] < 0.7)]\n",
    "\n",
    "freeze_cp_list = []\n",
    "temp_cp_list = []\n",
    "\n",
    "freeze_cp_list.append(low_cor_df[low_cor_df['stimulus_category'] == 'freeze']['response_slider'])\n",
    "temp_cp_list.append(low_cor_df[low_cor_df['stimulus_category'] == 'temp']['response_slider'])\n",
    "\n",
    "freeze_cp_list.append(mid_cor_df[mid_cor_df['stimulus_category'] == 'freeze']['response_slider'])\n",
    "temp_cp_list.append(mid_cor_df[mid_cor_df['stimulus_category'] == 'temp']['response_slider'])\n",
    "\n",
    "freeze_cp_list.append(high_cor_df[high_cor_df['stimulus_category'] == 'freeze']['response_slider'])\n",
    "temp_cp_list.append(high_cor_df[high_cor_df['stimulus_category'] == 'temp']['response_slider'])\n",
    "\n",
    "fig = plt.figure(constrained_layout=True)\n",
    "# fig.suptitle('Histogram of Changepoint Year Identified by Participants')\n",
    "\n",
    "subfigs = fig.subfigures(3)\n",
    "i = 0\n",
    "\n",
    "fig.add_subplot(111, frameon=False)\n",
    "plt.grid(False)\n",
    "\n",
    "row_titles = ['Low correlation', 'Medium correlation', 'High correlation']\n",
    "for row, subfig in enumerate(subfigs):\n",
    "    subfig.suptitle(row_titles[row])\n",
    "    axs = subfig.subplots(nrows=1, ncols=2)\n",
    "        \n",
    "    axs[0].hist(freeze_cp_list[row], weights=np.ones_like(freeze_cp_list[row]) / len(freeze_cp_list[row]), color = \"tab:blue\", label = \"freeze stimulus\")\n",
    "    axs[1].hist(temp_cp_list[row], weights=np.ones_like(temp_cp_list[row]) / len(temp_cp_list[row]),  color = \"coral\", label = \"temp stimulus\")\n",
    "    \n",
    "    if (row < 2):\n",
    "        axs[0].tick_params(labelbottom=False, bottom=False)\n",
    "        axs[1].tick_params(labelbottom=False, bottom=False)\n",
    "    \n",
    "    axs[0].tick_params(labelleft=True, left=True)\n",
    "    axs[1].tick_params(labelleft=False, left=True)\n",
    "        \n",
    "    ylim =  0.8\n",
    "    axs[0].set_ylim(0, ylim)\n",
    "    axs[1].set_ylim(0, ylim)\n",
    "    axs[0].set_xlim(1940, 2009)\n",
    "    axs[1].set_xlim(1940, 2009)\n",
    "    axs[0].set_xticks([1950, 1970, 1990])\n",
    "    axs[1].set_xticks([1950, 1970, 1990])\n",
    "    axs[0].set_yticks([0.2, 0.4, 0.6, 0.8])\n",
    "#     if (row == 2):\n",
    "#         axs[0].set_xlabel(\"Freeze Stimulus\", fontsize=12)\n",
    "#         axs[1].set_xlabel(\"Temp Stimulus\", fontsize=12)\n",
    "\n",
    "\n",
    "subfigs[2].legend(loc = 'lower center', bbox_to_anchor=(0.5, -0.4))\n",
    "fig.supylabel('Proportion of Responses', fontsize=14)\n",
    "\n",
    "fig.show()"
   ]
  },
  {
   "cell_type": "markdown",
   "id": "272a209b",
   "metadata": {},
   "source": [
    "## Get Entropy"
   ]
  },
  {
   "cell_type": "code",
   "execution_count": 66,
   "id": "973b896f",
   "metadata": {},
   "outputs": [],
   "source": [
    "def freqs(x):\n",
    "    counts = np.bincount(x, minlength=6)[1:]\n",
    "    return counts/counts.sum()"
   ]
  },
  {
   "cell_type": "code",
   "execution_count": 67,
   "id": "30837aa8",
   "metadata": {},
   "outputs": [],
   "source": [
    "cp_freq_freeze = np.apply_along_axis(freqs, axis=0, arr=exp_freeze_df['response_slider'])[1939:]\n",
    "cp_freq_temp = np.apply_along_axis(freqs, axis=0, arr=exp_temp_df['response_slider'])[1939:]"
   ]
  },
  {
   "cell_type": "code",
   "execution_count": 68,
   "id": "7903be29",
   "metadata": {
    "scrolled": true
   },
   "outputs": [
    {
     "name": "stdout",
     "output_type": "stream",
     "text": [
      "Entropy of freeze responses: 3.1486079800476943\n",
      "Entropy of temp responses: 3.557791511616188\n"
     ]
    }
   ],
   "source": [
    "print(\"Entropy of freeze responses: \" + str(stats.entropy(cp_freq_freeze)))\n",
    "print(\"Entropy of temp responses: \" + str(stats.entropy(cp_freq_temp)))"
   ]
  },
  {
   "cell_type": "markdown",
   "id": "e70771ea",
   "metadata": {},
   "source": [
    "# KS test"
   ]
  },
  {
   "cell_type": "code",
   "execution_count": 118,
   "id": "ced88523",
   "metadata": {},
   "outputs": [
    {
     "data": {
      "text/plain": [
       "KstestResult(statistic=0.28003655829742785, pvalue=2.900024821765046e-07, statistic_location=1985, statistic_sign=1)"
      ]
     },
     "execution_count": 118,
     "metadata": {},
     "output_type": "execute_result"
    }
   ],
   "source": [
    "stats.ks_2samp(exp_freeze_df['response_slider'], exp_temp_df['response_slider'])"
   ]
  },
  {
   "cell_type": "markdown",
   "id": "4b2df3e5",
   "metadata": {},
   "source": [
    "# F test"
   ]
  },
  {
   "cell_type": "code",
   "execution_count": 70,
   "id": "c47f7426",
   "metadata": {},
   "outputs": [
    {
     "name": "stdout",
     "output_type": "stream",
     "text": [
      "var freeze: 119.00669793927503\n",
      "var temp: 243.40844411979563\n",
      "Degree of freedom 1: 206\n",
      "Degree of freedom 2: 184\n",
      "F-statistic: 0.4889177052571965\n",
      "p-value: 3.4270460680052496e-07\n"
     ]
    }
   ],
   "source": [
    "# https://www.geeksforgeeks.org/how-to-perform-an-f-test-in-python/\n",
    "# Calculate the sample variances\n",
    "variance1 = np.var(exp_freeze_df['response_slider'])\n",
    "variance2 = np.var(exp_temp_df['response_slider'])\n",
    "print(\"var freeze: \" + str(variance1))\n",
    "print(\"var temp: \" + str(variance2))\n",
    "# Calculate the F-statistic\n",
    "f_value = variance1 / variance2\n",
    " \n",
    "# Calculate the degrees of freedom\n",
    "df1 = len(exp_freeze_df['response_slider']) - 1\n",
    "df2 = len(exp_temp_df['response_slider']) - 1\n",
    " \n",
    "# Calculate the p-value\n",
    "p_value = stats.f.cdf(f_value, df1, df2)\n",
    " \n",
    "# Print the results\n",
    "print('Degree of freedom 1:',df1)\n",
    "print('Degree of freedom 2:',df2)\n",
    "print(\"F-statistic:\", f_value)\n",
    "print(\"p-value:\", p_value)"
   ]
  },
  {
   "cell_type": "markdown",
   "id": "5f84719e",
   "metadata": {},
   "source": [
    "# Levene test"
   ]
  },
  {
   "cell_type": "code",
   "execution_count": 120,
   "id": "8ffe442f",
   "metadata": {},
   "outputs": [
    {
     "data": {
      "text/plain": [
       "LeveneResult(statistic=31.917546449788258, pvalue=3.106895218130121e-08)"
      ]
     },
     "execution_count": 120,
     "metadata": {},
     "output_type": "execute_result"
    }
   ],
   "source": [
    "stats.levene(exp_freeze_df['response_slider'], exp_temp_df['response_slider'])"
   ]
  },
  {
   "cell_type": "markdown",
   "id": "5c484413",
   "metadata": {},
   "source": [
    "# Shapiro-Wilk Test"
   ]
  },
  {
   "cell_type": "code",
   "execution_count": 121,
   "id": "e755391b",
   "metadata": {},
   "outputs": [
    {
     "data": {
      "text/plain": [
       "ShapiroResult(statistic=0.8326188921928406, pvalue=5.942323468843824e-07)"
      ]
     },
     "execution_count": 121,
     "metadata": {},
     "output_type": "execute_result"
    }
   ],
   "source": [
    "stats.shapiro(low_cor_df[low_cor_df['stimulus_category'] == 'freeze']['response_slider'])"
   ]
  },
  {
   "cell_type": "code",
   "execution_count": 122,
   "id": "467bba27",
   "metadata": {},
   "outputs": [
    {
     "data": {
      "text/plain": [
       "ShapiroResult(statistic=0.8236629366874695, pvalue=3.949157587612717e-07)"
      ]
     },
     "execution_count": 122,
     "metadata": {},
     "output_type": "execute_result"
    }
   ],
   "source": [
    "stats.shapiro(low_cor_df[low_cor_df['stimulus_category'] == 'temp']['response_slider'])"
   ]
  },
  {
   "cell_type": "code",
   "execution_count": 123,
   "id": "9c3e09eb",
   "metadata": {},
   "outputs": [
    {
     "data": {
      "text/plain": [
       "ShapiroResult(statistic=0.9234997034072876, pvalue=0.00011512568744365126)"
      ]
     },
     "execution_count": 123,
     "metadata": {},
     "output_type": "execute_result"
    }
   ],
   "source": [
    "stats.shapiro(mid_cor_df[mid_cor_df['stimulus_category'] == 'freeze']['response_slider'])"
   ]
  },
  {
   "cell_type": "code",
   "execution_count": 124,
   "id": "bf3181b6",
   "metadata": {},
   "outputs": [
    {
     "data": {
      "text/plain": [
       "ShapiroResult(statistic=0.9134705066680908, pvalue=0.0013805527705699205)"
      ]
     },
     "execution_count": 124,
     "metadata": {},
     "output_type": "execute_result"
    }
   ],
   "source": [
    "stats.shapiro(mid_cor_df[mid_cor_df['stimulus_category'] == 'temp']['response_slider'])"
   ]
  },
  {
   "cell_type": "code",
   "execution_count": 125,
   "id": "5f248eb9",
   "metadata": {
    "scrolled": true
   },
   "outputs": [
    {
     "data": {
      "text/plain": [
       "ShapiroResult(statistic=0.6711536645889282, pvalue=1.6532349100817356e-10)"
      ]
     },
     "execution_count": 125,
     "metadata": {},
     "output_type": "execute_result"
    }
   ],
   "source": [
    "stats.shapiro(high_cor_df[high_cor_df['stimulus_category'] == 'freeze']['response_slider'])"
   ]
  },
  {
   "cell_type": "code",
   "execution_count": 126,
   "id": "1b9c1654",
   "metadata": {},
   "outputs": [
    {
     "data": {
      "text/plain": [
       "ShapiroResult(statistic=0.927863359451294, pvalue=0.00044399304897524416)"
      ]
     },
     "execution_count": 126,
     "metadata": {},
     "output_type": "execute_result"
    }
   ],
   "source": [
    "stats.shapiro(high_cor_df[high_cor_df['stimulus_category'] == 'temp']['response_slider'])"
   ]
  },
  {
   "cell_type": "code",
   "execution_count": 127,
   "id": "02cd9631",
   "metadata": {},
   "outputs": [
    {
     "data": {
      "text/plain": [
       "ShapiroResult(statistic=0.9497426748275757, pvalue=1.2239466968821944e-06)"
      ]
     },
     "execution_count": 127,
     "metadata": {},
     "output_type": "execute_result"
    }
   ],
   "source": [
    "stats.shapiro(exp_freeze_df['response_slider'])"
   ]
  },
  {
   "cell_type": "code",
   "execution_count": 128,
   "id": "0e557da6",
   "metadata": {},
   "outputs": [
    {
     "data": {
      "text/plain": [
       "ShapiroResult(statistic=0.9533693790435791, pvalue=8.930684998631477e-06)"
      ]
     },
     "execution_count": 128,
     "metadata": {},
     "output_type": "execute_result"
    }
   ],
   "source": [
    "stats.shapiro(exp_temp_df['response_slider'])"
   ]
  },
  {
   "cell_type": "markdown",
   "id": "5a5602ba",
   "metadata": {},
   "source": [
    "# Analyze survey"
   ]
  },
  {
   "cell_type": "code",
   "execution_count": 129,
   "id": "9d6c09fc",
   "metadata": {},
   "outputs": [
    {
     "data": {
      "text/html": [
       "<div>\n",
       "<style scoped>\n",
       "    .dataframe tbody tr th:only-of-type {\n",
       "        vertical-align: middle;\n",
       "    }\n",
       "\n",
       "    .dataframe tbody tr th {\n",
       "        vertical-align: top;\n",
       "    }\n",
       "\n",
       "    .dataframe thead th {\n",
       "        text-align: right;\n",
       "    }\n",
       "</style>\n",
       "<table border=\"1\" class=\"dataframe\">\n",
       "  <thead>\n",
       "    <tr style=\"text-align: right;\">\n",
       "      <th></th>\n",
       "      <th>count</th>\n",
       "      <th>mean</th>\n",
       "      <th>std</th>\n",
       "      <th>min</th>\n",
       "      <th>25%</th>\n",
       "      <th>50%</th>\n",
       "      <th>75%</th>\n",
       "      <th>max</th>\n",
       "    </tr>\n",
       "    <tr>\n",
       "      <th>correlation</th>\n",
       "      <th></th>\n",
       "      <th></th>\n",
       "      <th></th>\n",
       "      <th></th>\n",
       "      <th></th>\n",
       "      <th></th>\n",
       "      <th></th>\n",
       "      <th></th>\n",
       "    </tr>\n",
       "  </thead>\n",
       "  <tbody>\n",
       "    <tr>\n",
       "      <th>0.230879</th>\n",
       "      <td>62.0</td>\n",
       "      <td>5.322581</td>\n",
       "      <td>2.252679</td>\n",
       "      <td>0.0</td>\n",
       "      <td>4.00</td>\n",
       "      <td>6.0</td>\n",
       "      <td>7.0</td>\n",
       "      <td>9.0</td>\n",
       "    </tr>\n",
       "    <tr>\n",
       "      <th>0.442783</th>\n",
       "      <td>50.0</td>\n",
       "      <td>5.640000</td>\n",
       "      <td>1.924705</td>\n",
       "      <td>0.0</td>\n",
       "      <td>4.25</td>\n",
       "      <td>6.0</td>\n",
       "      <td>7.0</td>\n",
       "      <td>9.0</td>\n",
       "    </tr>\n",
       "    <tr>\n",
       "      <th>0.659324</th>\n",
       "      <td>73.0</td>\n",
       "      <td>6.602740</td>\n",
       "      <td>1.823761</td>\n",
       "      <td>2.0</td>\n",
       "      <td>6.00</td>\n",
       "      <td>7.0</td>\n",
       "      <td>8.0</td>\n",
       "      <td>9.0</td>\n",
       "    </tr>\n",
       "  </tbody>\n",
       "</table>\n",
       "</div>"
      ],
      "text/plain": [
       "             count      mean       std  min   25%  50%  75%  max\n",
       "correlation                                                     \n",
       "0.230879      62.0  5.322581  2.252679  0.0  4.00  6.0  7.0  9.0\n",
       "0.442783      50.0  5.640000  1.924705  0.0  4.25  6.0  7.0  9.0\n",
       "0.659324      73.0  6.602740  1.823761  2.0  6.00  7.0  8.0  9.0"
      ]
     },
     "execution_count": 129,
     "metadata": {},
     "output_type": "execute_result"
    }
   ],
   "source": [
    "exp_temp_grouped_df = exp_temp_df.groupby('correlation')\n",
    "exp_temp_grouped_df['Climate'].describe()"
   ]
  },
  {
   "cell_type": "code",
   "execution_count": 130,
   "id": "197bb105",
   "metadata": {},
   "outputs": [
    {
     "data": {
      "text/html": [
       "<div>\n",
       "<style scoped>\n",
       "    .dataframe tbody tr th:only-of-type {\n",
       "        vertical-align: middle;\n",
       "    }\n",
       "\n",
       "    .dataframe tbody tr th {\n",
       "        vertical-align: top;\n",
       "    }\n",
       "\n",
       "    .dataframe thead th {\n",
       "        text-align: right;\n",
       "    }\n",
       "</style>\n",
       "<table border=\"1\" class=\"dataframe\">\n",
       "  <thead>\n",
       "    <tr style=\"text-align: right;\">\n",
       "      <th></th>\n",
       "      <th>count</th>\n",
       "      <th>mean</th>\n",
       "      <th>std</th>\n",
       "      <th>min</th>\n",
       "      <th>25%</th>\n",
       "      <th>50%</th>\n",
       "      <th>75%</th>\n",
       "      <th>max</th>\n",
       "    </tr>\n",
       "    <tr>\n",
       "      <th>correlation</th>\n",
       "      <th></th>\n",
       "      <th></th>\n",
       "      <th></th>\n",
       "      <th></th>\n",
       "      <th></th>\n",
       "      <th></th>\n",
       "      <th></th>\n",
       "      <th></th>\n",
       "    </tr>\n",
       "  </thead>\n",
       "  <tbody>\n",
       "    <tr>\n",
       "      <th>0.230879</th>\n",
       "      <td>63.0</td>\n",
       "      <td>6.333333</td>\n",
       "      <td>2.207027</td>\n",
       "      <td>1.0</td>\n",
       "      <td>5.50</td>\n",
       "      <td>7.0</td>\n",
       "      <td>8.0</td>\n",
       "      <td>9.0</td>\n",
       "    </tr>\n",
       "    <tr>\n",
       "      <th>0.442783</th>\n",
       "      <td>82.0</td>\n",
       "      <td>6.487805</td>\n",
       "      <td>1.982914</td>\n",
       "      <td>0.0</td>\n",
       "      <td>5.25</td>\n",
       "      <td>7.0</td>\n",
       "      <td>8.0</td>\n",
       "      <td>9.0</td>\n",
       "    </tr>\n",
       "    <tr>\n",
       "      <th>0.659324</th>\n",
       "      <td>62.0</td>\n",
       "      <td>7.274194</td>\n",
       "      <td>1.680840</td>\n",
       "      <td>2.0</td>\n",
       "      <td>6.25</td>\n",
       "      <td>8.0</td>\n",
       "      <td>9.0</td>\n",
       "      <td>9.0</td>\n",
       "    </tr>\n",
       "  </tbody>\n",
       "</table>\n",
       "</div>"
      ],
      "text/plain": [
       "             count      mean       std  min   25%  50%  75%  max\n",
       "correlation                                                     \n",
       "0.230879      63.0  6.333333  2.207027  1.0  5.50  7.0  8.0  9.0\n",
       "0.442783      82.0  6.487805  1.982914  0.0  5.25  7.0  8.0  9.0\n",
       "0.659324      62.0  7.274194  1.680840  2.0  6.25  8.0  9.0  9.0"
      ]
     },
     "execution_count": 130,
     "metadata": {},
     "output_type": "execute_result"
    }
   ],
   "source": [
    "exp_freeze_grouped_df = exp_freeze_df.groupby('correlation')\n",
    "exp_freeze_grouped_df['Climate'].describe()"
   ]
  },
  {
   "cell_type": "code",
   "execution_count": 131,
   "id": "beaf63cf",
   "metadata": {},
   "outputs": [
    {
     "name": "stderr",
     "output_type": "stream",
     "text": [
      "C:\\Users\\grace\\AppData\\Local\\Temp\\ipykernel_372\\2490974198.py:61: UserWarning: Matplotlib is currently using module://matplotlib_inline.backend_inline, which is a non-GUI backend, so cannot show the figure.\n",
      "  fig.show()\n"
     ]
    },
    {
     "data": {
      "image/png": "[encoded data removed]",
      "text/plain": [
       "<Figure size 600x800 with 4 Axes>"
      ]
     },
     "metadata": {},
     "output_type": "display_data"
    }
   ],
   "source": [
    "low_cor_df = exp_df.loc[exp_df['correlation'] < 0.3]\n",
    "mid_cor_df = exp_df.loc[(exp_df['correlation'] >= 0.3) & (exp_df['correlation'] < 0.5)]\n",
    "high_cor_df = exp_df.loc[(exp_df['correlation'] >= 0.5) & (exp_df['correlation'] < 0.7)]\n",
    "\n",
    "question_categories = ['Climate', 'Temperature', 'Freeze']\n",
    "fig, axs = plt.subplots(3, figsize = (6, 8))\n",
    "fig.tight_layout(h_pad = 3)\n",
    "i = 0\n",
    "\n",
    "fig.add_subplot(111, frameon=False)\n",
    "# hide tick and tick label of the big axes\n",
    "plt.tick_params(labelcolor='none', top=False, bottom=False, left=False, right=False)\n",
    "plt.grid(False)\n",
    "\n",
    "for cat in question_categories:\n",
    "    \n",
    "    mean_diff_freeze_list = []\n",
    "    mean_diff_temp_list = []\n",
    "    p_value_list = []\n",
    "    freeze_sample_size_list = []\n",
    "    temp_sample_size_list = []\n",
    "\n",
    "    mean_diff_freeze_list.append(low_cor_df[low_cor_df['stimulus_category'] == 'freeze'][cat].mean())\n",
    "    mean_diff_temp_list.append(low_cor_df[low_cor_df['stimulus_category'] == 'temp'][cat].mean())\n",
    "    p_value_list.append(stats.ttest_ind(low_cor_df[low_cor_df['stimulus_category'] == 'freeze'][cat], low_cor_df[low_cor_df['stimulus_category'] == 'temp'][cat])[1])\n",
    "    temp_sample_size_list.append(len(low_cor_df[low_cor_df['stimulus_category'] == 'temp'][cat]))\n",
    "    freeze_sample_size_list.append(len(low_cor_df[low_cor_df['stimulus_category'] == 'freeze'][cat]))\n",
    "    \n",
    "    mean_diff_freeze_list.append(mid_cor_df[mid_cor_df['stimulus_category'] == 'freeze'][cat].mean())\n",
    "    mean_diff_temp_list.append(mid_cor_df[mid_cor_df['stimulus_category'] == 'temp'][cat].mean())\n",
    "    p_value_list.append(stats.ttest_ind(mid_cor_df[mid_cor_df['stimulus_category'] == 'freeze'][cat], mid_cor_df[mid_cor_df['stimulus_category'] == 'temp'][cat])[1])\n",
    "    temp_sample_size_list.append(len(mid_cor_df[mid_cor_df['stimulus_category'] == 'temp'][cat]))\n",
    "    freeze_sample_size_list.append(len(mid_cor_df[mid_cor_df['stimulus_category'] == 'freeze'][cat]))\n",
    "    \n",
    "    mean_diff_freeze_list.append(high_cor_df[high_cor_df['stimulus_category'] == 'freeze'][cat].mean())\n",
    "    mean_diff_temp_list.append(high_cor_df[high_cor_df['stimulus_category'] == 'temp'][cat].mean())\n",
    "    p_value_list.append(stats.ttest_ind(high_cor_df[high_cor_df['stimulus_category'] == 'freeze'][cat], high_cor_df[high_cor_df['stimulus_category'] == 'temp'][cat])[1])\n",
    "    temp_sample_size_list.append(len(high_cor_df[high_cor_df['stimulus_category'] == 'temp'][cat]))\n",
    "    freeze_sample_size_list.append(len(high_cor_df[high_cor_df['stimulus_category'] == 'freeze'][cat]))\n",
    "\n",
    "    N = 3\n",
    "    ind = np.arange(N)\n",
    "\n",
    "    # Width of a bar \n",
    "    width = 0.3 \n",
    "\n",
    "    axs[i].bar(ind, mean_diff_freeze_list, width, color = \"tab:blue\", label = \"freeze stimulus\")\n",
    "    axs[i].bar(ind + width, mean_diff_temp_list, width, color = \"coral\", label = \"temp stimulus\")\n",
    "    axs[i].set_title('Perceived Change in ' + cat)\n",
    "    axs[i].set_xticks(ind + width / 2, (('0.1-0.3 \\np = ' + '{:0.2e}'.format(p_value_list[0])), \n",
    "                                        ('0.3-0.5 \\np = ' + '{:0.2e}'.format(p_value_list[1])), \n",
    "                                        ('0.5-0.7 \\np = ' + '{:0.2e}'.format(p_value_list[2]))))\n",
    "    i += 1\n",
    "axs[1].legend(loc='center left', bbox_to_anchor=(1, 0.5))\n",
    "axs[2].set_xticks(ind + width / 2, (('0.1-0.3 \\np = ' + '{:0.2e}'.format(p_value_list[0]) + '\\nn = (' + str(freeze_sample_size_list[0]) + \", \" + str(temp_sample_size_list[0]) + ')'), \n",
    "                                        ('0.3-0.5 \\np = ' + '{:0.2e}'.format(p_value_list[1]) + '\\nn = (' + str(freeze_sample_size_list[1]) + \", \" + str(temp_sample_size_list[1]) + ')'), \n",
    "                                        ('0.5-0.7 \\np = ' + '{:0.2e}'.format(p_value_list[2]) + '\\nn = (' + str(freeze_sample_size_list[2]) + \", \" + str(temp_sample_size_list[2]) + ')')))\n",
    "plt.ylabel('Mean Participant Response (10-point scale)')\n",
    "plt.xlabel('Correlation Category', labelpad=30)\n",
    "\n",
    "fig.show()"
   ]
  },
  {
   "cell_type": "markdown",
   "id": "c4d2b0c1",
   "metadata": {},
   "source": [
    "# Analyze survey by CP response"
   ]
  },
  {
   "cell_type": "code",
   "execution_count": 132,
   "id": "7e024fdf",
   "metadata": {},
   "outputs": [
    {
     "name": "stdout",
     "output_type": "stream",
     "text": [
      "Mean Climate Response (yes CP): 6.647058823529412\n",
      "Mean Climate Response (no CP): 5.0\n",
      "TtestResult(statistic=4.812714920528329, pvalue=2.384329876050406e-06, df=294.0)\n"
     ]
    }
   ],
   "source": [
    "exp_no_cp_df = exp_df[exp_df['response_cp'] == ' No']\n",
    "exp_cp_df = exp_df[exp_df['response_cp'] == ' Yes']\n",
    "\n",
    "print(\"Mean Climate Response (yes CP): \" + str(exp_cp_df['Climate'].mean()))\n",
    "print(\"Mean Climate Response (no CP): \" + str(exp_no_cp_df['Climate'].mean()))\n",
    "print(stats.ttest_ind(exp_cp_df['Climate'], exp_no_cp_df['Climate']))"
   ]
  },
  {
   "cell_type": "code",
   "execution_count": 133,
   "id": "e5ec84a0",
   "metadata": {},
   "outputs": [
    {
     "name": "stdout",
     "output_type": "stream",
     "text": [
      "Mean Climate Response (yes CP): 6.211538461538462\n",
      "Mean Climate Response (no CP): 5.111111111111111\n",
      "TtestResult(statistic=2.4068576168652887, pvalue=0.017507023930227614, df=129.0)\n"
     ]
    }
   ],
   "source": [
    "exp_temp_no_cp_df = exp_temp_df[exp_temp_df['response_cp'] == ' No']\n",
    "exp_temp_cp_df = exp_temp_df[exp_temp_df['response_cp'] == ' Yes']\n",
    "\n",
    "print(\"Mean Climate Response (yes CP): \" + str(exp_temp_cp_df['Climate'].mean()))\n",
    "print(\"Mean Climate Response (no CP): \" + str(exp_temp_no_cp_df['Climate'].mean()))\n",
    "print(stats.ttest_ind(exp_temp_cp_df['Climate'], exp_temp_no_cp_df['Climate']))"
   ]
  },
  {
   "cell_type": "code",
   "execution_count": 134,
   "id": "0624783c",
   "metadata": {},
   "outputs": [
    {
     "name": "stdout",
     "output_type": "stream",
     "text": [
      "Mean Climate Response (yes CP): 6.947019867549669\n",
      "Mean Climate Response (no CP): 4.785714285714286\n",
      "TtestResult(statistic=4.0190740473785125, pvalue=8.908353666078948e-05, df=163.0)\n"
     ]
    }
   ],
   "source": [
    "exp_freeze_no_cp_df = exp_freeze_df[exp_freeze_df['response_cp'] == ' No']\n",
    "exp_freeze_cp_df = exp_freeze_df[exp_freeze_df['response_cp'] == ' Yes']\n",
    "\n",
    "print(\"Mean Climate Response (yes CP): \" + str(exp_freeze_cp_df['Climate'].mean()))\n",
    "print(\"Mean Climate Response (no CP): \" + str(exp_freeze_no_cp_df['Climate'].mean()))\n",
    "print(stats.ttest_ind(exp_freeze_cp_df['Climate'], exp_freeze_no_cp_df['Climate']))"
   ]
  },
  {
   "cell_type": "code",
   "execution_count": null,
   "id": "45b692b5",
   "metadata": {},
   "outputs": [],
   "source": []
  }
 ],
 "metadata": {
  "kernelspec": {
   "display_name": "Python 3 (ipykernel)",
   "language": "python",
   "name": "python3"
  },
  "language_info": {
   "codemirror_mode": {
    "name": "ipython",
    "version": 3
   },
   "file_extension": ".py",
   "mimetype": "text/x-python",
   "name": "python",
   "nbconvert_exporter": "python",
   "pygments_lexer": "ipython3",
   "version": "3.10.13"
  }
 },
 "nbformat": 4,
 "nbformat_minor": 5
}
