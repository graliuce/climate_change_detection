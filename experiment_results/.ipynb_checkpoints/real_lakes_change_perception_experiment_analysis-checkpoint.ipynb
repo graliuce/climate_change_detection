{
 "cells": [
  {
   "cell_type": "code",
   "execution_count": 1,
   "id": "77d718fb",
   "metadata": {},
   "outputs": [],
   "source": [
    "import pandas as pd\n",
    "import numpy as np\n",
    "import matplotlib.pyplot as plt\n",
    "import seaborn as sns\n",
    "import re\n",
    "\n",
    "from pymongo.mongo_client import MongoClient\n",
    "from pymongo.server_api import ServerApi\n",
    "\n",
    "import os\n",
    "from dotenv import load_dotenv # add this line\n",
    "\n",
    "import json\n",
    "\n",
    "from scipy import stats"
   ]
  },
  {
   "cell_type": "code",
   "execution_count": 2,
   "id": "ea40a1f7",
   "metadata": {},
   "outputs": [],
   "source": [
    "# Python program to read\n",
    "# json file\n",
    " \n",
    "import json\n",
    " \n",
    "# Opening JSON file\n",
    "f = open(\"real_lakes_change_perception_experiment_results.json\")\n",
    " \n",
    "# returns JSON object as \n",
    "# a dictionary\n",
    "data = json.load(f)\n",
    "\n",
    "f.close()"
   ]
  },
  {
   "cell_type": "code",
   "execution_count": 3,
   "id": "c19cf780",
   "metadata": {},
   "outputs": [],
   "source": [
    "exp_df = pd.DataFrame(list(data))\n",
    "exp_df = pd.concat([exp_df.drop(['data'], axis=1), exp_df['data'].apply(pd.Series)], axis=1)\n",
    "exp_df = pd.concat([exp_df.drop(['trials'], axis=1), exp_df['trials'].apply(pd.Series)], axis=1)"
   ]
  },
  {
   "cell_type": "code",
   "execution_count": 4,
   "id": "a6a97a70",
   "metadata": {},
   "outputs": [],
   "source": [
    "exp_df = exp_df[[3, 5, 6]]\n",
    "\n",
    "exp_df = pd.concat([exp_df.drop([3], axis=1), exp_df[3].apply(pd.Series)], axis=1)\n",
    "exp_df = pd.concat([exp_df.drop([6], axis=1), exp_df[6].apply(pd.Series)], axis=1)"
   ]
  },
  {
   "cell_type": "code",
   "execution_count": 5,
   "id": "38db65a0",
   "metadata": {},
   "outputs": [],
   "source": [
    "exp_df = exp_df[[5, 'stimulus_type', 'response']]\n",
    "exp_df = exp_df.rename(columns={\"response\": \"response_survey\"})\n",
    "exp_df = exp_df.rename(columns={\"stimulus_type\": \"stimulus_category\"})\n"
   ]
  },
  {
   "cell_type": "code",
   "execution_count": 6,
   "id": "3de39847",
   "metadata": {},
   "outputs": [
    {
     "data": {
      "text/html": [
       "<div>\n",
       "<style scoped>\n",
       "    .dataframe tbody tr th:only-of-type {\n",
       "        vertical-align: middle;\n",
       "    }\n",
       "\n",
       "    .dataframe tbody tr th {\n",
       "        vertical-align: top;\n",
       "    }\n",
       "\n",
       "    .dataframe thead th {\n",
       "        text-align: right;\n",
       "    }\n",
       "</style>\n",
       "<table border=\"1\" class=\"dataframe\">\n",
       "  <thead>\n",
       "    <tr style=\"text-align: right;\">\n",
       "      <th></th>\n",
       "      <th>5</th>\n",
       "      <th>stimulus_category</th>\n",
       "      <th>response_survey</th>\n",
       "    </tr>\n",
       "  </thead>\n",
       "  <tbody>\n",
       "    <tr>\n",
       "      <th>0</th>\n",
       "      <td>{'rt': 17047, 'stimulus': '&lt;div style='float: ...</td>\n",
       "      <td>freeze</td>\n",
       "      <td>{'Freeze': 7, 'Temperature': 7, 'Attention': 9...</td>\n",
       "    </tr>\n",
       "    <tr>\n",
       "      <th>1</th>\n",
       "      <td>{'rt': 19636, 'stimulus': '&lt;div style='float: ...</td>\n",
       "      <td>freeze</td>\n",
       "      <td>{'Climate': 5, 'Attention': 9, 'Temperature': ...</td>\n",
       "    </tr>\n",
       "    <tr>\n",
       "      <th>2</th>\n",
       "      <td>{'rt': 27634, 'stimulus': '&lt;div style='float: ...</td>\n",
       "      <td>freeze</td>\n",
       "      <td>{'Climate': 9, 'Attention': 9, 'Freeze': 9, 'T...</td>\n",
       "    </tr>\n",
       "    <tr>\n",
       "      <th>3</th>\n",
       "      <td>{'rt': 16599, 'stimulus': '&lt;div style='float: ...</td>\n",
       "      <td>temp</td>\n",
       "      <td>{'Climate': 5, 'Attention': 9, 'Freeze': 5, 'T...</td>\n",
       "    </tr>\n",
       "    <tr>\n",
       "      <th>4</th>\n",
       "      <td>{'rt': 10569, 'stimulus': '&lt;div style='float: ...</td>\n",
       "      <td>temp</td>\n",
       "      <td>{'Attention': 9, 'Temperature': 6, 'Freeze': 7...</td>\n",
       "    </tr>\n",
       "    <tr>\n",
       "      <th>...</th>\n",
       "      <td>...</td>\n",
       "      <td>...</td>\n",
       "      <td>...</td>\n",
       "    </tr>\n",
       "    <tr>\n",
       "      <th>146</th>\n",
       "      <td>{'rt': 30840, 'stimulus': '&lt;div style='float: ...</td>\n",
       "      <td>temp</td>\n",
       "      <td>{'Freeze': 7, 'Attention': 9, 'Temperature': 7...</td>\n",
       "    </tr>\n",
       "    <tr>\n",
       "      <th>147</th>\n",
       "      <td>{'rt': 21360, 'stimulus': '&lt;div style='float: ...</td>\n",
       "      <td>temp</td>\n",
       "      <td>{'Climate': 9, 'Freeze': 4, 'Temperature': 5, ...</td>\n",
       "    </tr>\n",
       "    <tr>\n",
       "      <th>148</th>\n",
       "      <td>{'rt': 42079, 'stimulus': '&lt;div style='float: ...</td>\n",
       "      <td>temp</td>\n",
       "      <td>{'Freeze': 5, 'Attention': 9, 'Climate': 6, 'T...</td>\n",
       "    </tr>\n",
       "    <tr>\n",
       "      <th>149</th>\n",
       "      <td>{'rt': 269, 'stimulus': '&lt;div style='float: ce...</td>\n",
       "      <td>freeze</td>\n",
       "      <td>{'Climate': 6, 'Attention': 9, 'Temperature': ...</td>\n",
       "    </tr>\n",
       "    <tr>\n",
       "      <th>150</th>\n",
       "      <td>{'rt': 16528, 'stimulus': '&lt;div style='float: ...</td>\n",
       "      <td>temp</td>\n",
       "      <td>{'Freeze': 8, 'Attention': 9, 'Climate': 9, 'T...</td>\n",
       "    </tr>\n",
       "  </tbody>\n",
       "</table>\n",
       "<p>151 rows × 3 columns</p>\n",
       "</div>"
      ],
      "text/plain": [
       "                                                     5 stimulus_category  \\\n",
       "0    {'rt': 17047, 'stimulus': '<div style='float: ...            freeze   \n",
       "1    {'rt': 19636, 'stimulus': '<div style='float: ...            freeze   \n",
       "2    {'rt': 27634, 'stimulus': '<div style='float: ...            freeze   \n",
       "3    {'rt': 16599, 'stimulus': '<div style='float: ...              temp   \n",
       "4    {'rt': 10569, 'stimulus': '<div style='float: ...              temp   \n",
       "..                                                 ...               ...   \n",
       "146  {'rt': 30840, 'stimulus': '<div style='float: ...              temp   \n",
       "147  {'rt': 21360, 'stimulus': '<div style='float: ...              temp   \n",
       "148  {'rt': 42079, 'stimulus': '<div style='float: ...              temp   \n",
       "149  {'rt': 269, 'stimulus': '<div style='float: ce...            freeze   \n",
       "150  {'rt': 16528, 'stimulus': '<div style='float: ...              temp   \n",
       "\n",
       "                                       response_survey  \n",
       "0    {'Freeze': 7, 'Temperature': 7, 'Attention': 9...  \n",
       "1    {'Climate': 5, 'Attention': 9, 'Temperature': ...  \n",
       "2    {'Climate': 9, 'Attention': 9, 'Freeze': 9, 'T...  \n",
       "3    {'Climate': 5, 'Attention': 9, 'Freeze': 5, 'T...  \n",
       "4    {'Attention': 9, 'Temperature': 6, 'Freeze': 7...  \n",
       "..                                                 ...  \n",
       "146  {'Freeze': 7, 'Attention': 9, 'Temperature': 7...  \n",
       "147  {'Climate': 9, 'Freeze': 4, 'Temperature': 5, ...  \n",
       "148  {'Freeze': 5, 'Attention': 9, 'Climate': 6, 'T...  \n",
       "149  {'Climate': 6, 'Attention': 9, 'Temperature': ...  \n",
       "150  {'Freeze': 8, 'Attention': 9, 'Climate': 9, 'T...  \n",
       "\n",
       "[151 rows x 3 columns]"
      ]
     },
     "execution_count": 6,
     "metadata": {},
     "output_type": "execute_result"
    }
   ],
   "source": [
    "exp_df"
   ]
  },
  {
   "cell_type": "code",
   "execution_count": 7,
   "id": "ce109fe2",
   "metadata": {},
   "outputs": [],
   "source": [
    "exp_df = pd.concat([exp_df.drop([5], axis=1), exp_df[5].apply(pd.Series)], axis=1)\n",
    "\n",
    "exp_df = exp_df[['rt', 'stimulus_category', 'stimulus_type', 'response_survey']]\n",
    "exp_df = exp_df.rename(columns={\"stimulus_type\": \"lake\"})\n",
    "\n",
    "exp_df = pd.concat([exp_df.drop(['response_survey'], axis=1), exp_df['response_survey'].apply(pd.Series)], axis=1)\n",
    "\n",
    "# keep only entries where subject was paying attention\n",
    "exp_df = exp_df[exp_df['Attention'] == 9]\n",
    "exp_df = exp_df[exp_df['rt'] >= 2000]\n",
    "\n",
    "# add 1 to numerical entries to shift to 1-10 scale\n",
    "exp_df = pd.concat([exp_df.drop(['stimulus_category', 'lake'], axis=1)+1, exp_df[['stimulus_category','lake']]], axis=1)"
   ]
  },
  {
   "cell_type": "code",
   "execution_count": 8,
   "id": "09971fd6",
   "metadata": {},
   "outputs": [
    {
     "data": {
      "text/html": [
       "<div>\n",
       "<style scoped>\n",
       "    .dataframe tbody tr th:only-of-type {\n",
       "        vertical-align: middle;\n",
       "    }\n",
       "\n",
       "    .dataframe tbody tr th {\n",
       "        vertical-align: top;\n",
       "    }\n",
       "\n",
       "    .dataframe thead th {\n",
       "        text-align: right;\n",
       "    }\n",
       "</style>\n",
       "<table border=\"1\" class=\"dataframe\">\n",
       "  <thead>\n",
       "    <tr style=\"text-align: right;\">\n",
       "      <th></th>\n",
       "      <th>rt</th>\n",
       "      <th>Freeze</th>\n",
       "      <th>Temperature</th>\n",
       "      <th>Attention</th>\n",
       "      <th>Climate</th>\n",
       "      <th>stimulus_category</th>\n",
       "      <th>lake</th>\n",
       "    </tr>\n",
       "  </thead>\n",
       "  <tbody>\n",
       "    <tr>\n",
       "      <th>0</th>\n",
       "      <td>17048</td>\n",
       "      <td>8</td>\n",
       "      <td>8</td>\n",
       "      <td>10</td>\n",
       "      <td>9</td>\n",
       "      <td>freeze</td>\n",
       "      <td>../img/plots/sarnersee_freeze.png</td>\n",
       "    </tr>\n",
       "    <tr>\n",
       "      <th>1</th>\n",
       "      <td>19637</td>\n",
       "      <td>9</td>\n",
       "      <td>5</td>\n",
       "      <td>10</td>\n",
       "      <td>6</td>\n",
       "      <td>freeze</td>\n",
       "      <td>../img/plots/sarnersee_freeze.png</td>\n",
       "    </tr>\n",
       "    <tr>\n",
       "      <th>2</th>\n",
       "      <td>27635</td>\n",
       "      <td>10</td>\n",
       "      <td>10</td>\n",
       "      <td>10</td>\n",
       "      <td>10</td>\n",
       "      <td>freeze</td>\n",
       "      <td>../img/plots/vattern_freeze.png</td>\n",
       "    </tr>\n",
       "    <tr>\n",
       "      <th>3</th>\n",
       "      <td>16600</td>\n",
       "      <td>6</td>\n",
       "      <td>6</td>\n",
       "      <td>10</td>\n",
       "      <td>6</td>\n",
       "      <td>temp</td>\n",
       "      <td>../img/plots/george_temp.png</td>\n",
       "    </tr>\n",
       "    <tr>\n",
       "      <th>4</th>\n",
       "      <td>10570</td>\n",
       "      <td>8</td>\n",
       "      <td>7</td>\n",
       "      <td>10</td>\n",
       "      <td>8</td>\n",
       "      <td>temp</td>\n",
       "      <td>../img/plots/vattern_temp.png</td>\n",
       "    </tr>\n",
       "    <tr>\n",
       "      <th>...</th>\n",
       "      <td>...</td>\n",
       "      <td>...</td>\n",
       "      <td>...</td>\n",
       "      <td>...</td>\n",
       "      <td>...</td>\n",
       "      <td>...</td>\n",
       "      <td>...</td>\n",
       "    </tr>\n",
       "    <tr>\n",
       "      <th>145</th>\n",
       "      <td>26743</td>\n",
       "      <td>8</td>\n",
       "      <td>8</td>\n",
       "      <td>10</td>\n",
       "      <td>7</td>\n",
       "      <td>freeze</td>\n",
       "      <td>../img/plots/sarnersee_freeze.png</td>\n",
       "    </tr>\n",
       "    <tr>\n",
       "      <th>146</th>\n",
       "      <td>30841</td>\n",
       "      <td>8</td>\n",
       "      <td>8</td>\n",
       "      <td>10</td>\n",
       "      <td>9</td>\n",
       "      <td>temp</td>\n",
       "      <td>../img/plots/grand_traverse_bay_temp.png</td>\n",
       "    </tr>\n",
       "    <tr>\n",
       "      <th>147</th>\n",
       "      <td>21361</td>\n",
       "      <td>5</td>\n",
       "      <td>6</td>\n",
       "      <td>10</td>\n",
       "      <td>10</td>\n",
       "      <td>temp</td>\n",
       "      <td>../img/plots/suwa_temp.png</td>\n",
       "    </tr>\n",
       "    <tr>\n",
       "      <th>148</th>\n",
       "      <td>42080</td>\n",
       "      <td>6</td>\n",
       "      <td>9</td>\n",
       "      <td>10</td>\n",
       "      <td>7</td>\n",
       "      <td>temp</td>\n",
       "      <td>../img/plots/george_temp.png</td>\n",
       "    </tr>\n",
       "    <tr>\n",
       "      <th>150</th>\n",
       "      <td>16529</td>\n",
       "      <td>9</td>\n",
       "      <td>10</td>\n",
       "      <td>10</td>\n",
       "      <td>10</td>\n",
       "      <td>temp</td>\n",
       "      <td>../img/plots/george_temp.png</td>\n",
       "    </tr>\n",
       "  </tbody>\n",
       "</table>\n",
       "<p>146 rows × 7 columns</p>\n",
       "</div>"
      ],
      "text/plain": [
       "        rt  Freeze  Temperature  Attention  Climate stimulus_category  \\\n",
       "0    17048       8            8         10        9            freeze   \n",
       "1    19637       9            5         10        6            freeze   \n",
       "2    27635      10           10         10       10            freeze   \n",
       "3    16600       6            6         10        6              temp   \n",
       "4    10570       8            7         10        8              temp   \n",
       "..     ...     ...          ...        ...      ...               ...   \n",
       "145  26743       8            8         10        7            freeze   \n",
       "146  30841       8            8         10        9              temp   \n",
       "147  21361       5            6         10       10              temp   \n",
       "148  42080       6            9         10        7              temp   \n",
       "150  16529       9           10         10       10              temp   \n",
       "\n",
       "                                         lake  \n",
       "0           ../img/plots/sarnersee_freeze.png  \n",
       "1           ../img/plots/sarnersee_freeze.png  \n",
       "2             ../img/plots/vattern_freeze.png  \n",
       "3                ../img/plots/george_temp.png  \n",
       "4               ../img/plots/vattern_temp.png  \n",
       "..                                        ...  \n",
       "145         ../img/plots/sarnersee_freeze.png  \n",
       "146  ../img/plots/grand_traverse_bay_temp.png  \n",
       "147                ../img/plots/suwa_temp.png  \n",
       "148              ../img/plots/george_temp.png  \n",
       "150              ../img/plots/george_temp.png  \n",
       "\n",
       "[146 rows x 7 columns]"
      ]
     },
     "execution_count": 8,
     "metadata": {},
     "output_type": "execute_result"
    }
   ],
   "source": [
    "exp_df"
   ]
  },
  {
   "cell_type": "code",
   "execution_count": 9,
   "id": "36644309",
   "metadata": {},
   "outputs": [],
   "source": [
    "exp_df.dropna(axis = 1, inplace = True, how = 'all')\n",
    "exp_df.dropna(axis = 0, inplace = True, how = 'all')"
   ]
  },
  {
   "cell_type": "code",
   "execution_count": 10,
   "id": "bcf8cb6e",
   "metadata": {},
   "outputs": [],
   "source": [
    "exp_df['lake'] = exp_df['lake'].str.replace(\"../img/plots/\", \"\") \n",
    "exp_df['lake'] = exp_df['lake'].str.replace(\"_freeze.png\", \"\") \n",
    "exp_df['lake'] = exp_df['lake'].str.replace(\"_temp.png\", \"\") "
   ]
  },
  {
   "cell_type": "code",
   "execution_count": 11,
   "id": "483c2b24",
   "metadata": {},
   "outputs": [],
   "source": [
    "#exp_df['correlation'] = exp_df['lake'].str.extract('(\\d+\\.\\d+)', expand=False).astype(float)"
   ]
  },
  {
   "cell_type": "code",
   "execution_count": 12,
   "id": "9be2fd4d",
   "metadata": {},
   "outputs": [],
   "source": [
    "exp_freeze_df = exp_df[exp_df['stimulus_category'] == 'freeze']\n",
    "exp_temp_df = exp_df[exp_df['stimulus_category'] == 'temp']"
   ]
  },
  {
   "cell_type": "code",
   "execution_count": 13,
   "id": "f7493e58",
   "metadata": {},
   "outputs": [
    {
     "data": {
      "text/plain": [
       "72"
      ]
     },
     "execution_count": 13,
     "metadata": {},
     "output_type": "execute_result"
    }
   ],
   "source": [
    "len(exp_freeze_df)"
   ]
  },
  {
   "cell_type": "code",
   "execution_count": 14,
   "id": "944f9c01",
   "metadata": {
    "scrolled": true
   },
   "outputs": [
    {
     "data": {
      "text/plain": [
       "74"
      ]
     },
     "execution_count": 14,
     "metadata": {},
     "output_type": "execute_result"
    }
   ],
   "source": [
    "len(exp_temp_df)"
   ]
  },
  {
   "cell_type": "code",
   "execution_count": 15,
   "id": "798825b5",
   "metadata": {},
   "outputs": [],
   "source": [
    "exp_df = pd.concat([exp_freeze_df, exp_temp_df], axis = 0)"
   ]
  },
  {
   "cell_type": "code",
   "execution_count": 16,
   "id": "046ab73e",
   "metadata": {
    "scrolled": true
   },
   "outputs": [
    {
     "data": {
      "text/html": [
       "<div>\n",
       "<style scoped>\n",
       "    .dataframe tbody tr th:only-of-type {\n",
       "        vertical-align: middle;\n",
       "    }\n",
       "\n",
       "    .dataframe tbody tr th {\n",
       "        vertical-align: top;\n",
       "    }\n",
       "\n",
       "    .dataframe thead th {\n",
       "        text-align: right;\n",
       "    }\n",
       "</style>\n",
       "<table border=\"1\" class=\"dataframe\">\n",
       "  <thead>\n",
       "    <tr style=\"text-align: right;\">\n",
       "      <th></th>\n",
       "      <th>rt</th>\n",
       "      <th>Freeze</th>\n",
       "      <th>Temperature</th>\n",
       "      <th>Attention</th>\n",
       "      <th>Climate</th>\n",
       "      <th>stimulus_category</th>\n",
       "      <th>lake</th>\n",
       "    </tr>\n",
       "  </thead>\n",
       "  <tbody>\n",
       "    <tr>\n",
       "      <th>0</th>\n",
       "      <td>17048</td>\n",
       "      <td>8</td>\n",
       "      <td>8</td>\n",
       "      <td>10</td>\n",
       "      <td>9</td>\n",
       "      <td>freeze</td>\n",
       "      <td>sarnersee</td>\n",
       "    </tr>\n",
       "    <tr>\n",
       "      <th>1</th>\n",
       "      <td>19637</td>\n",
       "      <td>9</td>\n",
       "      <td>5</td>\n",
       "      <td>10</td>\n",
       "      <td>6</td>\n",
       "      <td>freeze</td>\n",
       "      <td>sarnersee</td>\n",
       "    </tr>\n",
       "    <tr>\n",
       "      <th>2</th>\n",
       "      <td>27635</td>\n",
       "      <td>10</td>\n",
       "      <td>10</td>\n",
       "      <td>10</td>\n",
       "      <td>10</td>\n",
       "      <td>freeze</td>\n",
       "      <td>vattern</td>\n",
       "    </tr>\n",
       "    <tr>\n",
       "      <th>5</th>\n",
       "      <td>12366</td>\n",
       "      <td>9</td>\n",
       "      <td>8</td>\n",
       "      <td>10</td>\n",
       "      <td>6</td>\n",
       "      <td>freeze</td>\n",
       "      <td>vattern</td>\n",
       "    </tr>\n",
       "    <tr>\n",
       "      <th>6</th>\n",
       "      <td>11215</td>\n",
       "      <td>8</td>\n",
       "      <td>7</td>\n",
       "      <td>10</td>\n",
       "      <td>9</td>\n",
       "      <td>freeze</td>\n",
       "      <td>george</td>\n",
       "    </tr>\n",
       "    <tr>\n",
       "      <th>...</th>\n",
       "      <td>...</td>\n",
       "      <td>...</td>\n",
       "      <td>...</td>\n",
       "      <td>...</td>\n",
       "      <td>...</td>\n",
       "      <td>...</td>\n",
       "      <td>...</td>\n",
       "    </tr>\n",
       "    <tr>\n",
       "      <th>144</th>\n",
       "      <td>7432</td>\n",
       "      <td>7</td>\n",
       "      <td>9</td>\n",
       "      <td>10</td>\n",
       "      <td>9</td>\n",
       "      <td>temp</td>\n",
       "      <td>vattern</td>\n",
       "    </tr>\n",
       "    <tr>\n",
       "      <th>146</th>\n",
       "      <td>30841</td>\n",
       "      <td>8</td>\n",
       "      <td>8</td>\n",
       "      <td>10</td>\n",
       "      <td>9</td>\n",
       "      <td>temp</td>\n",
       "      <td>grand_traverse_bay</td>\n",
       "    </tr>\n",
       "    <tr>\n",
       "      <th>147</th>\n",
       "      <td>21361</td>\n",
       "      <td>5</td>\n",
       "      <td>6</td>\n",
       "      <td>10</td>\n",
       "      <td>10</td>\n",
       "      <td>temp</td>\n",
       "      <td>suwa</td>\n",
       "    </tr>\n",
       "    <tr>\n",
       "      <th>148</th>\n",
       "      <td>42080</td>\n",
       "      <td>6</td>\n",
       "      <td>9</td>\n",
       "      <td>10</td>\n",
       "      <td>7</td>\n",
       "      <td>temp</td>\n",
       "      <td>george</td>\n",
       "    </tr>\n",
       "    <tr>\n",
       "      <th>150</th>\n",
       "      <td>16529</td>\n",
       "      <td>9</td>\n",
       "      <td>10</td>\n",
       "      <td>10</td>\n",
       "      <td>10</td>\n",
       "      <td>temp</td>\n",
       "      <td>george</td>\n",
       "    </tr>\n",
       "  </tbody>\n",
       "</table>\n",
       "<p>146 rows × 7 columns</p>\n",
       "</div>"
      ],
      "text/plain": [
       "        rt  Freeze  Temperature  Attention  Climate stimulus_category  \\\n",
       "0    17048       8            8         10        9            freeze   \n",
       "1    19637       9            5         10        6            freeze   \n",
       "2    27635      10           10         10       10            freeze   \n",
       "5    12366       9            8         10        6            freeze   \n",
       "6    11215       8            7         10        9            freeze   \n",
       "..     ...     ...          ...        ...      ...               ...   \n",
       "144   7432       7            9         10        9              temp   \n",
       "146  30841       8            8         10        9              temp   \n",
       "147  21361       5            6         10       10              temp   \n",
       "148  42080       6            9         10        7              temp   \n",
       "150  16529       9           10         10       10              temp   \n",
       "\n",
       "                   lake  \n",
       "0             sarnersee  \n",
       "1             sarnersee  \n",
       "2               vattern  \n",
       "5               vattern  \n",
       "6                george  \n",
       "..                  ...  \n",
       "144             vattern  \n",
       "146  grand_traverse_bay  \n",
       "147                suwa  \n",
       "148              george  \n",
       "150              george  \n",
       "\n",
       "[146 rows x 7 columns]"
      ]
     },
     "execution_count": 16,
     "metadata": {},
     "output_type": "execute_result"
    }
   ],
   "source": [
    "exp_df"
   ]
  },
  {
   "cell_type": "markdown",
   "id": "dd705236",
   "metadata": {},
   "source": [
    "# Analysis by Lake"
   ]
  },
  {
   "cell_type": "code",
   "execution_count": 17,
   "id": "018c534f",
   "metadata": {},
   "outputs": [],
   "source": [
    "exp_freeze_grouped_df = exp_freeze_df.groupby('lake')\n",
    "exp_temp_grouped_df = exp_temp_df.groupby('lake')"
   ]
  },
  {
   "cell_type": "code",
   "execution_count": 18,
   "id": "d67d145d",
   "metadata": {
    "scrolled": false
   },
   "outputs": [
    {
     "name": "stdout",
     "output_type": "stream",
     "text": [
      "Temp group\n"
     ]
    },
    {
     "data": {
      "text/html": [
       "<div>\n",
       "<style scoped>\n",
       "    .dataframe tbody tr th:only-of-type {\n",
       "        vertical-align: middle;\n",
       "    }\n",
       "\n",
       "    .dataframe tbody tr th {\n",
       "        vertical-align: top;\n",
       "    }\n",
       "\n",
       "    .dataframe thead th {\n",
       "        text-align: right;\n",
       "    }\n",
       "</style>\n",
       "<table border=\"1\" class=\"dataframe\">\n",
       "  <thead>\n",
       "    <tr style=\"text-align: right;\">\n",
       "      <th></th>\n",
       "      <th>count</th>\n",
       "      <th>mean</th>\n",
       "      <th>std</th>\n",
       "      <th>min</th>\n",
       "      <th>25%</th>\n",
       "      <th>50%</th>\n",
       "      <th>75%</th>\n",
       "      <th>max</th>\n",
       "    </tr>\n",
       "    <tr>\n",
       "      <th>lake</th>\n",
       "      <th></th>\n",
       "      <th></th>\n",
       "      <th></th>\n",
       "      <th></th>\n",
       "      <th></th>\n",
       "      <th></th>\n",
       "      <th></th>\n",
       "      <th></th>\n",
       "    </tr>\n",
       "  </thead>\n",
       "  <tbody>\n",
       "    <tr>\n",
       "      <th>george</th>\n",
       "      <td>17.0</td>\n",
       "      <td>6.823529</td>\n",
       "      <td>2.214591</td>\n",
       "      <td>1.0</td>\n",
       "      <td>6.0</td>\n",
       "      <td>7.0</td>\n",
       "      <td>8.0</td>\n",
       "      <td>10.0</td>\n",
       "    </tr>\n",
       "    <tr>\n",
       "      <th>grand_traverse_bay</th>\n",
       "      <td>14.0</td>\n",
       "      <td>7.714286</td>\n",
       "      <td>1.138729</td>\n",
       "      <td>6.0</td>\n",
       "      <td>7.0</td>\n",
       "      <td>8.0</td>\n",
       "      <td>8.0</td>\n",
       "      <td>10.0</td>\n",
       "    </tr>\n",
       "    <tr>\n",
       "      <th>sarnersee</th>\n",
       "      <td>13.0</td>\n",
       "      <td>7.692308</td>\n",
       "      <td>1.652504</td>\n",
       "      <td>4.0</td>\n",
       "      <td>7.0</td>\n",
       "      <td>8.0</td>\n",
       "      <td>9.0</td>\n",
       "      <td>10.0</td>\n",
       "    </tr>\n",
       "    <tr>\n",
       "      <th>suwa</th>\n",
       "      <td>19.0</td>\n",
       "      <td>7.210526</td>\n",
       "      <td>2.323287</td>\n",
       "      <td>1.0</td>\n",
       "      <td>6.5</td>\n",
       "      <td>8.0</td>\n",
       "      <td>8.5</td>\n",
       "      <td>10.0</td>\n",
       "    </tr>\n",
       "    <tr>\n",
       "      <th>vattern</th>\n",
       "      <td>11.0</td>\n",
       "      <td>6.363636</td>\n",
       "      <td>2.500909</td>\n",
       "      <td>2.0</td>\n",
       "      <td>4.5</td>\n",
       "      <td>8.0</td>\n",
       "      <td>8.0</td>\n",
       "      <td>9.0</td>\n",
       "    </tr>\n",
       "  </tbody>\n",
       "</table>\n",
       "</div>"
      ],
      "text/plain": [
       "                    count      mean       std  min  25%  50%  75%   max\n",
       "lake                                                                   \n",
       "george               17.0  6.823529  2.214591  1.0  6.0  7.0  8.0  10.0\n",
       "grand_traverse_bay   14.0  7.714286  1.138729  6.0  7.0  8.0  8.0  10.0\n",
       "sarnersee            13.0  7.692308  1.652504  4.0  7.0  8.0  9.0  10.0\n",
       "suwa                 19.0  7.210526  2.323287  1.0  6.5  8.0  8.5  10.0\n",
       "vattern              11.0  6.363636  2.500909  2.0  4.5  8.0  8.0   9.0"
      ]
     },
     "execution_count": 18,
     "metadata": {},
     "output_type": "execute_result"
    }
   ],
   "source": [
    "print(\"Temp group\")\n",
    "exp_temp_grouped_df['Climate'].describe()"
   ]
  },
  {
   "cell_type": "code",
   "execution_count": 19,
   "id": "6dab7be7",
   "metadata": {},
   "outputs": [
    {
     "name": "stdout",
     "output_type": "stream",
     "text": [
      "Freeze group\n"
     ]
    },
    {
     "data": {
      "text/html": [
       "<div>\n",
       "<style scoped>\n",
       "    .dataframe tbody tr th:only-of-type {\n",
       "        vertical-align: middle;\n",
       "    }\n",
       "\n",
       "    .dataframe tbody tr th {\n",
       "        vertical-align: top;\n",
       "    }\n",
       "\n",
       "    .dataframe thead th {\n",
       "        text-align: right;\n",
       "    }\n",
       "</style>\n",
       "<table border=\"1\" class=\"dataframe\">\n",
       "  <thead>\n",
       "    <tr style=\"text-align: right;\">\n",
       "      <th></th>\n",
       "      <th>count</th>\n",
       "      <th>mean</th>\n",
       "      <th>std</th>\n",
       "      <th>min</th>\n",
       "      <th>25%</th>\n",
       "      <th>50%</th>\n",
       "      <th>75%</th>\n",
       "      <th>max</th>\n",
       "    </tr>\n",
       "    <tr>\n",
       "      <th>lake</th>\n",
       "      <th></th>\n",
       "      <th></th>\n",
       "      <th></th>\n",
       "      <th></th>\n",
       "      <th></th>\n",
       "      <th></th>\n",
       "      <th></th>\n",
       "      <th></th>\n",
       "    </tr>\n",
       "  </thead>\n",
       "  <tbody>\n",
       "    <tr>\n",
       "      <th>george</th>\n",
       "      <td>14.0</td>\n",
       "      <td>8.142857</td>\n",
       "      <td>1.833750</td>\n",
       "      <td>4.0</td>\n",
       "      <td>7.25</td>\n",
       "      <td>9.0</td>\n",
       "      <td>9.00</td>\n",
       "      <td>10.0</td>\n",
       "    </tr>\n",
       "    <tr>\n",
       "      <th>grand_traverse_bay</th>\n",
       "      <td>16.0</td>\n",
       "      <td>8.000000</td>\n",
       "      <td>1.366260</td>\n",
       "      <td>5.0</td>\n",
       "      <td>7.75</td>\n",
       "      <td>8.0</td>\n",
       "      <td>8.25</td>\n",
       "      <td>10.0</td>\n",
       "    </tr>\n",
       "    <tr>\n",
       "      <th>sarnersee</th>\n",
       "      <td>18.0</td>\n",
       "      <td>7.388889</td>\n",
       "      <td>2.061949</td>\n",
       "      <td>2.0</td>\n",
       "      <td>7.00</td>\n",
       "      <td>7.5</td>\n",
       "      <td>8.75</td>\n",
       "      <td>10.0</td>\n",
       "    </tr>\n",
       "    <tr>\n",
       "      <th>suwa</th>\n",
       "      <td>13.0</td>\n",
       "      <td>7.769231</td>\n",
       "      <td>2.006400</td>\n",
       "      <td>2.0</td>\n",
       "      <td>7.00</td>\n",
       "      <td>8.0</td>\n",
       "      <td>9.00</td>\n",
       "      <td>10.0</td>\n",
       "    </tr>\n",
       "    <tr>\n",
       "      <th>vattern</th>\n",
       "      <td>11.0</td>\n",
       "      <td>8.000000</td>\n",
       "      <td>1.414214</td>\n",
       "      <td>6.0</td>\n",
       "      <td>7.00</td>\n",
       "      <td>8.0</td>\n",
       "      <td>9.00</td>\n",
       "      <td>10.0</td>\n",
       "    </tr>\n",
       "  </tbody>\n",
       "</table>\n",
       "</div>"
      ],
      "text/plain": [
       "                    count      mean       std  min   25%  50%   75%   max\n",
       "lake                                                                     \n",
       "george               14.0  8.142857  1.833750  4.0  7.25  9.0  9.00  10.0\n",
       "grand_traverse_bay   16.0  8.000000  1.366260  5.0  7.75  8.0  8.25  10.0\n",
       "sarnersee            18.0  7.388889  2.061949  2.0  7.00  7.5  8.75  10.0\n",
       "suwa                 13.0  7.769231  2.006400  2.0  7.00  8.0  9.00  10.0\n",
       "vattern              11.0  8.000000  1.414214  6.0  7.00  8.0  9.00  10.0"
      ]
     },
     "execution_count": 19,
     "metadata": {},
     "output_type": "execute_result"
    }
   ],
   "source": [
    "print(\"Freeze group\")\n",
    "exp_freeze_grouped_df['Climate'].describe()"
   ]
  },
  {
   "cell_type": "markdown",
   "id": "6efe4f08",
   "metadata": {},
   "source": [
    "# Analysis by correlation"
   ]
  },
  {
   "cell_type": "code",
   "execution_count": 21,
   "id": "8e6781d9",
   "metadata": {},
   "outputs": [
    {
     "name": "stdout",
     "output_type": "stream",
     "text": [
      "7.833333333333333\n",
      "7.175675675675675\n",
      "1.7522621194362644\n",
      "2.0430846146667276\n",
      "0.6576576576576576\n"
     ]
    },
    {
     "data": {
      "text/plain": [
       "TtestResult(statistic=2.0852293105627124, pvalue=0.03881345126771603, df=144.0)"
      ]
     },
     "execution_count": 21,
     "metadata": {},
     "output_type": "execute_result"
    }
   ],
   "source": [
    "print(exp_df[exp_df['stimulus_category'] == 'freeze']['Climate'].mean())\n",
    "print(exp_df[exp_df['stimulus_category'] == 'temp']['Climate'].mean())\n",
    "print(exp_df[exp_df['stimulus_category'] == 'freeze']['Climate'].std())\n",
    "print(exp_df[exp_df['stimulus_category'] == 'temp']['Climate'].std())\n",
    "print(exp_df[exp_df['stimulus_category'] == 'freeze']['Climate'].mean() - exp_df[exp_df['stimulus_category'] == 'temp']['Climate'].mean())\n",
    "stats.ttest_ind(exp_df[exp_df['stimulus_category'] == 'freeze']['Climate'], exp_df[exp_df['stimulus_category'] == 'temp']['Climate'])"
   ]
  },
  {
   "cell_type": "code",
   "execution_count": 22,
   "id": "6a677689",
   "metadata": {},
   "outputs": [
    {
     "name": "stdout",
     "output_type": "stream",
     "text": [
      "0.9388138138138133\n"
     ]
    },
    {
     "data": {
      "text/plain": [
       "TtestResult(statistic=2.9961562165389704, pvalue=0.003220353966551402, df=144.0)"
      ]
     },
     "execution_count": 22,
     "metadata": {},
     "output_type": "execute_result"
    }
   ],
   "source": [
    "print(exp_df[exp_df['stimulus_category'] == 'freeze']['Freeze'].mean() - exp_df[exp_df['stimulus_category'] == 'temp']['Freeze'].mean())\n",
    "stats.ttest_ind(exp_df[exp_df['stimulus_category'] == 'freeze']['Freeze'], exp_df[exp_df['stimulus_category'] == 'temp']['Freeze'])"
   ]
  },
  {
   "cell_type": "code",
   "execution_count": 33,
   "id": "01fa0286",
   "metadata": {},
   "outputs": [
    {
     "data": {
      "text/plain": [
       "Text(0.5, 1.0, 'Perceived Change in Climate')"
      ]
     },
     "execution_count": 33,
     "metadata": {},
     "output_type": "execute_result"
    },
    {
     "data": {
      "image/png": "[encoded data removed]",
      "text/plain": [
       "<Figure size 640x480 with 1 Axes>"
      ]
     },
     "metadata": {},
     "output_type": "display_data"
    }
   ],
   "source": [
    "bp1 = plt.boxplot(exp_freeze_df['Climate'], positions=[1], patch_artist=True, boxprops=dict(facecolor=\"tab:blue\"), medianprops = dict(color = \"black\", linewidth = 1.5))\n",
    "bp2 = plt.boxplot(exp_temp_df['Climate'], positions=[2], patch_artist=True, boxprops=dict(facecolor=\"coral\"), medianprops = dict(color = \"black\", linewidth = 1.5))\n",
    "plt.legend([bp1[\"boxes\"][0], bp2[\"boxes\"][0]], ['freeze stimulus', 'temp stimulus'],  bbox_to_anchor=(1, 0.5))\n",
    "plt.title('Perceived Change in Climate')"
   ]
  },
  {
   "cell_type": "code",
   "execution_count": 34,
   "id": "02493df0",
   "metadata": {},
   "outputs": [
    {
     "name": "stderr",
     "output_type": "stream",
     "text": [
      "C:\\Users\\grace\\AppData\\Local\\Temp\\ipykernel_22584\\1334726928.py:28: UserWarning: Matplotlib is currently using module://matplotlib_inline.backend_inline, which is a non-GUI backend, so cannot show the figure.\n",
      "  fig.show()\n"
     ]
    },
    {
     "data": {
      "image/png": "[encoded data removed]",
      "text/plain": [
       "<Figure size 400x800 with 4 Axes>"
      ]
     },
     "metadata": {},
     "output_type": "display_data"
    }
   ],
   "source": [
    "question_categories = ['Climate', 'Temperature', 'Freeze']\n",
    "fig, axs = plt.subplots(3, figsize = (4, 8))\n",
    "fig.tight_layout(h_pad = 3)\n",
    "i = 0\n",
    "\n",
    "fig.add_subplot(111, frameon=False)\n",
    "# hide tick and tick label of the big axes\n",
    "plt.tick_params(labelcolor='none', top=False, bottom=False, left=False, right=False)\n",
    "plt.grid(False)\n",
    "\n",
    "for cat in question_categories:\n",
    "    mean_diff_freeze = exp_freeze_df[cat].mean()\n",
    "    stderr_freeze = exp_freeze_df[cat].sem()\n",
    "    mean_diff_temp = exp_temp_df[cat].mean()\n",
    "    stderr_temp = exp_temp_df[cat].sem()\n",
    "    p_value = stats.ttest_ind(exp_freeze_df[cat], exp_temp_df[cat])[1]\n",
    "    \n",
    "    bp1 = axs[i].boxplot(exp_freeze_df['Climate'], positions=[1], patch_artist=True, boxprops=dict(facecolor=\"tab:blue\"), medianprops = dict(color = \"black\", linewidth = 1.5))\n",
    "    bp2 = axs[i].boxplot(exp_temp_df['Climate'], positions=[2], patch_artist=True, boxprops=dict(facecolor=\"coral\"), medianprops = dict(color = \"black\", linewidth = 1.5))\n",
    "    axs[i].set_title('Perceived Change in ' + cat)\n",
    "    axs[i].set_xticks((np.arange(1)+1.5), (('p = ' + '{:0.2e}'.format(p_value)),))\n",
    "    \n",
    "    i += 1\n",
    "    \n",
    "axs[1].legend([bp1[\"boxes\"][0], bp2[\"boxes\"][0]], ['freeze stimulus', 'temp stimulus'],  bbox_to_anchor=(1, 0.5))\n",
    "plt.ylabel('Mean Participant Response (10-point scale)')\n",
    "\n",
    "fig.show()"
   ]
  },
  {
   "cell_type": "code",
   "execution_count": 73,
   "id": "4259dedc",
   "metadata": {},
   "outputs": [
    {
     "name": "stderr",
     "output_type": "stream",
     "text": [
      "C:\\Users\\grace\\AppData\\Local\\Temp\\ipykernel_22584\\3706444644.py:36: UserWarning: Matplotlib is currently using module://matplotlib_inline.backend_inline, which is a non-GUI backend, so cannot show the figure.\n",
      "  fig.show()\n"
     ]
    },
    {
     "data": {
      "image/png": "[encoded data removed]",
      "text/plain": [
       "<Figure size 1200x400 with 4 Axes>"
      ]
     },
     "metadata": {},
     "output_type": "display_data"
    }
   ],
   "source": [
    "question_categories = ['Climate', 'Temperature', 'Freeze']\n",
    "fig, axs = plt.subplots(1, 3, figsize = (12, 4))\n",
    "fig.tight_layout(h_pad = 3)\n",
    "i = 0\n",
    "\n",
    "fig.add_subplot(111, frameon=False)\n",
    "# hide tick and tick label of the big axes\n",
    "plt.tick_params(labelcolor='none', top=False, bottom=False, left=False, right=False)\n",
    "plt.grid(False)\n",
    "\n",
    "for cat in question_categories:\n",
    "    mean_diff_freeze = exp_freeze_df[cat].mean()\n",
    "    stderr_freeze = exp_freeze_df[cat].sem()\n",
    "    mean_diff_temp = exp_temp_df[cat].mean()\n",
    "    stderr_temp = exp_temp_df[cat].sem()\n",
    "    p_value = stats.ttest_ind(exp_freeze_df[cat], exp_temp_df[cat])[1]\n",
    "    temp_sample_size = len(exp_temp_df[cat])\n",
    "    freeze_sample_size = len(exp_freeze_df[cat])\n",
    "    \n",
    "    width = .25\n",
    "    axs[i].bar(.375, mean_diff_freeze, width, color = \"tab:blue\", label = \"freeze stimulus\")\n",
    "    axs[i].errorbar(0.375, mean_diff_freeze, yerr = stderr_freeze, fmt=\"none\", color = 'black', elinewidth = 1, capsize = 1.5)\n",
    "    axs[i].bar(.625, mean_diff_temp, width, color = \"coral\", label = \"temp stimulus\")\n",
    "    axs[i].errorbar(.625, mean_diff_temp, yerr = stderr_temp, fmt=\"none\", color = 'black', elinewidth = 1, capsize = 1.5)\n",
    "    axs[i].set_title('Perceived Change in ' + cat, fontsize=14)\n",
    "    axs[i].set_xticks((np.arange(1)+0.5), (('p = ' + '{:0.2e}'.format(p_value)),), fontsize=14)\n",
    "    if i == 1:\n",
    "        axs[i].set_xticks((np.arange(1)+0.5), (('p = ' + '{:0.2e}'.format(p_value)+ '\\nn = (' + str(freeze_sample_size) + \", \" + str(temp_sample_size) + ')'),), fontsize=14)\n",
    "    axs[i].set_ylim(0,10)\n",
    "    axs[i].set_xlim(0,1)\n",
    "    i += 1\n",
    "    \n",
    "axs[1].legend(fontsize=12) #loc = 'lower center', bbox_to_anchor=(0.5, -0.4)\n",
    "plt.ylabel('Mean Participant Response \\n(10-point scale)', fontsize=14)\n",
    "\n",
    "fig.show()"
   ]
  },
  {
   "cell_type": "code",
   "execution_count": null,
   "id": "f4489ac2",
   "metadata": {},
   "outputs": [],
   "source": []
  }
 ],
 "metadata": {
  "kernelspec": {
   "display_name": "Python 3 (ipykernel)",
   "language": "python",
   "name": "python3"
  },
  "language_info": {
   "codemirror_mode": {
    "name": "ipython",
    "version": 3
   },
   "file_extension": ".py",
   "mimetype": "text/x-python",
   "name": "python",
   "nbconvert_exporter": "python",
   "pygments_lexer": "ipython3",
   "version": "3.10.13"
  }
 },
 "nbformat": 4,
 "nbformat_minor": 5
}
